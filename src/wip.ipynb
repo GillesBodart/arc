{
 "cells": [
  {
   "cell_type": "code",
   "id": "initial_id",
   "metadata": {
    "collapsed": true,
    "ExecuteTime": {
     "end_time": "2024-08-21T11:36:38.365746Z",
     "start_time": "2024-08-21T11:36:38.355254Z"
    }
   },
   "source": [
    "import json\n",
    "import pprint\n",
    "import pandas as pd\n",
    "import numpy as np\n",
    "\n",
    "import matplotlib.pyplot as plt\n",
    "from matplotlib import colors\n",
    "import seaborn as sns\n",
    "import copy\n",
    "import json\n",
    "import os\n",
    "from pathlib import Path\n",
    "\n",
    "from subprocess import Popen, PIPE, STDOUT\n",
    "from glob import glob"
   ],
   "outputs": [],
   "execution_count": 128
  },
  {
   "metadata": {
    "ExecuteTime": {
     "end_time": "2024-08-21T10:19:48.770971Z",
     "start_time": "2024-08-21T10:19:48.759459Z"
    }
   },
   "cell_type": "code",
   "source": [
    "\n",
    "pp = pprint.PrettyPrinter(indent=1)"
   ],
   "id": "d0f5bc3419c7fe77",
   "outputs": [],
   "execution_count": 19
  },
  {
   "metadata": {
    "ExecuteTime": {
     "end_time": "2024-08-21T10:23:11.073563Z",
     "start_time": "2024-08-21T10:23:10.953027Z"
    }
   },
   "cell_type": "code",
   "source": [
    "# 0:black, 1:blue, 2:red, 3:greed, 4:yellow, # 5:gray, 6:magenta, 7:orange, 8:sky, 9:brown\n",
    "\n",
    "_cmap = colors.ListedColormap(\n",
    "    ['#000000', '#0074D9', '#FF4136', '#2ECC40', '#FFDC00',\n",
    "     '#AAAAAA', '#F012BE', '#FF851B', '#7FDBFF', '#870C25'])\n",
    "norm = colors.Normalize(vmin=0, vmax=9)\n",
    "\n",
    "plt.figure(figsize=(4, 1), dpi=200)\n",
    "plt.imshow([list(range(10))], cmap=_cmap, norm=norm)\n",
    "plt.xticks(list(range(10)))\n",
    "plt.yticks([])\n",
    "plt.show()"
   ],
   "id": "a5e95d1cfeb470e4",
   "outputs": [
    {
     "data": {
      "text/plain": [
       "<Figure size 800x200 with 1 Axes>"
      ],
      "image/png": "[encoded data removed]"
     },
     "metadata": {},
     "output_type": "display_data"
    }
   ],
   "execution_count": 25
  },
  {
   "metadata": {
    "ExecuteTime": {
     "end_time": "2024-08-21T10:23:33.543154Z",
     "start_time": "2024-08-21T10:23:33.519151Z"
    }
   },
   "cell_type": "code",
   "source": [
    "def load_json(file_path):\n",
    "    with open(file_path) as f:\n",
    "        data = json.load(f)\n",
    "    return data\n",
    "\n",
    "\n",
    "def plot_task(task, task_solutions, i, t):\n",
    "    \"\"\"    Plots the train and test pairs of a specified task,\n",
    "    using same color scheme as the ARC app    \"\"\"\n",
    "\n",
    "    num_train = len(task['train'])\n",
    "    num_test = len(task['test'])\n",
    "\n",
    "    w = num_train + num_test\n",
    "    fig, axs = plt.subplots(2, w, figsize=(3 * w, 3 * 2))\n",
    "    plt.suptitle(f'Set #{i}, {t}:', fontsize=20, fontweight='bold', y=1)\n",
    "\n",
    "    for j in range(num_train):\n",
    "        plot_one(axs[0, j], j, 'train', 'input')\n",
    "        plot_one(axs[1, j], j, 'train', 'output')\n",
    "\n",
    "    plot_one(axs[0, j + 1], 0, 'test', 'input')\n",
    "\n",
    "    cmap = colors.ListedColormap(['#000000', '#0074D9', '#FF4136', '#2ECC40', '#FFDC00',\n",
    "                                  '#AAAAAA', '#F012BE', '#FF851B', '#7FDBFF', '#870C25'])\n",
    "    norm = colors.Normalize(vmin=0, vmax=9)\n",
    "    answer = task_solutions\n",
    "    input_matrix = answer\n",
    "\n",
    "    axs[1, j + 1].imshow(input_matrix, cmap=cmap, norm=norm)\n",
    "    axs[1, j + 1].grid(True, which='both', color='lightgrey', linewidth=0.5)\n",
    "    axs[1, j + 1].set_yticks([x - 0.5 for x in range(1 + len(input_matrix))])\n",
    "    axs[1, j + 1].set_xticks([x - 0.5 for x in range(1 + len(input_matrix[0]))])\n",
    "    axs[1, j + 1].set_xticklabels([])\n",
    "    axs[1, j + 1].set_yticklabels([])\n",
    "    axs[1, j + 1].set_title('TEST OUTPUT', color='green', fontweight='bold')\n",
    "\n",
    "    fig.patch.set_linewidth(5)\n",
    "    fig.patch.set_edgecolor('black')  # substitute 'k' for black\n",
    "    fig.patch.set_facecolor('#dddddd')\n",
    "\n",
    "    plt.tight_layout()\n",
    "    plt.show()\n",
    "\n",
    "    print()\n",
    "    print()\n",
    "\n",
    "\n",
    "def plot_one(ax, i, train_or_test, input_or_output):\n",
    "    cmap = colors.ListedColormap(['#000000', '#0074D9', '#FF4136', '#2ECC40', '#FFDC00',\n",
    "                                  '#AAAAAA', '#F012BE', '#FF851B', '#7FDBFF', '#870C25'])\n",
    "    norm = colors.Normalize(vmin=0, vmax=9)\n",
    "    input_matrix = task[train_or_test][i][input_or_output]\n",
    "    ax.imshow(input_matrix, cmap=cmap, norm=norm)\n",
    "    ax.grid(True, which='both', color='lightgrey', linewidth=0.5)\n",
    "\n",
    "    plt.setp(plt.gcf().get_axes(), xticklabels=[], yticklabels=[])\n",
    "    ax.set_xticks([x - 0.5 for x in range(1 + len(input_matrix[0]))])\n",
    "    ax.set_yticks([x - 0.5 for x in range(1 + len(input_matrix))])\n",
    "    ax.set_title(train_or_test + ' ' + input_or_output, fontweight='bold')"
   ],
   "id": "a453a7efb1b550e2",
   "outputs": [],
   "execution_count": 26
  },
  {
   "metadata": {
    "ExecuteTime": {
     "end_time": "2024-08-21T10:16:03.995072Z",
     "start_time": "2024-08-21T10:16:03.978073Z"
    }
   },
   "cell_type": "code",
   "source": "base_path = '../data/'",
   "id": "84a19b20b8a4150",
   "outputs": [],
   "execution_count": 3
  },
  {
   "metadata": {
    "ExecuteTime": {
     "end_time": "2024-08-21T11:34:39.286353Z",
     "start_time": "2024-08-21T11:34:39.046746Z"
    }
   },
   "cell_type": "code",
   "source": [
    "training_challenges = load_json(base_path + 'arc-agi_training_challenges.json')\n",
    "training_solutions = load_json(base_path + 'arc-agi_training_solutions.json')\n",
    "\n",
    "evaluation_challenges = load_json(base_path + 'arc-agi_evaluation_challenges.json')\n",
    "evaluation_solutions = load_json(base_path + 'arc-agi_evaluation_solutions.json')\n",
    "\n",
    "test_challenges = load_json(base_path + 'arc-agi_test_challenges.json')"
   ],
   "id": "4dd2027ad75fdf64",
   "outputs": [],
   "execution_count": 122
  },
  {
   "metadata": {},
   "cell_type": "code",
   "source": "training_challenges_df = pd.DataFrame(training_challenges)",
   "id": "fe22cc81720780c1",
   "outputs": [],
   "execution_count": null
  },
  {
   "metadata": {},
   "cell_type": "code",
   "source": "training_solutions_df = pd.DataFrame(training_solutions)",
   "id": "805e29de9fcf16f4",
   "outputs": [],
   "execution_count": null
  },
  {
   "metadata": {
    "ExecuteTime": {
     "end_time": "2024-08-21T10:19:57.204444Z",
     "start_time": "2024-08-21T10:19:57.197431Z"
    }
   },
   "cell_type": "code",
   "source": [
    "task = training_challenges['007bbfb7']\n",
    "pp.pprint(task)\n"
   ],
   "id": "d5ecbedf32840906",
   "outputs": [
    {
     "name": "stdout",
     "output_type": "stream",
     "text": [
      "{'test': [{'input': [[7, 0, 7], [7, 0, 7], [7, 7, 0]]}],\n",
      " 'train': [{'input': [[0, 7, 7], [7, 7, 7], [0, 7, 7]],\n",
      "            'output': [[0, 0, 0, 0, 7, 7, 0, 7, 7],\n",
      "                       [0, 0, 0, 7, 7, 7, 7, 7, 7],\n",
      "                       [0, 0, 0, 0, 7, 7, 0, 7, 7],\n",
      "                       [0, 7, 7, 0, 7, 7, 0, 7, 7],\n",
      "                       [7, 7, 7, 7, 7, 7, 7, 7, 7],\n",
      "                       [0, 7, 7, 0, 7, 7, 0, 7, 7],\n",
      "                       [0, 0, 0, 0, 7, 7, 0, 7, 7],\n",
      "                       [0, 0, 0, 7, 7, 7, 7, 7, 7],\n",
      "                       [0, 0, 0, 0, 7, 7, 0, 7, 7]]},\n",
      "           {'input': [[4, 0, 4], [0, 0, 0], [0, 4, 0]],\n",
      "            'output': [[4, 0, 4, 0, 0, 0, 4, 0, 4],\n",
      "                       [0, 0, 0, 0, 0, 0, 0, 0, 0],\n",
      "                       [0, 4, 0, 0, 0, 0, 0, 4, 0],\n",
      "                       [0, 0, 0, 0, 0, 0, 0, 0, 0],\n",
      "                       [0, 0, 0, 0, 0, 0, 0, 0, 0],\n",
      "                       [0, 0, 0, 0, 0, 0, 0, 0, 0],\n",
      "                       [0, 0, 0, 4, 0, 4, 0, 0, 0],\n",
      "                       [0, 0, 0, 0, 0, 0, 0, 0, 0],\n",
      "                       [0, 0, 0, 0, 4, 0, 0, 0, 0]]},\n",
      "           {'input': [[0, 0, 0], [0, 0, 2], [2, 0, 2]],\n",
      "            'output': [[0, 0, 0, 0, 0, 0, 0, 0, 0],\n",
      "                       [0, 0, 0, 0, 0, 0, 0, 0, 0],\n",
      "                       [0, 0, 0, 0, 0, 0, 0, 0, 0],\n",
      "                       [0, 0, 0, 0, 0, 0, 0, 0, 0],\n",
      "                       [0, 0, 0, 0, 0, 0, 0, 0, 2],\n",
      "                       [0, 0, 0, 0, 0, 0, 2, 0, 2],\n",
      "                       [0, 0, 0, 0, 0, 0, 0, 0, 0],\n",
      "                       [0, 0, 2, 0, 0, 0, 0, 0, 2],\n",
      "                       [2, 0, 2, 0, 0, 0, 2, 0, 2]]},\n",
      "           {'input': [[6, 6, 0], [6, 0, 0], [0, 6, 6]],\n",
      "            'output': [[6, 6, 0, 6, 6, 0, 0, 0, 0],\n",
      "                       [6, 0, 0, 6, 0, 0, 0, 0, 0],\n",
      "                       [0, 6, 6, 0, 6, 6, 0, 0, 0],\n",
      "                       [6, 6, 0, 0, 0, 0, 0, 0, 0],\n",
      "                       [6, 0, 0, 0, 0, 0, 0, 0, 0],\n",
      "                       [0, 6, 6, 0, 0, 0, 0, 0, 0],\n",
      "                       [0, 0, 0, 6, 6, 0, 6, 6, 0],\n",
      "                       [0, 0, 0, 6, 0, 0, 6, 0, 0],\n",
      "                       [0, 0, 0, 0, 6, 6, 0, 6, 6]]},\n",
      "           {'input': [[2, 2, 2], [0, 0, 0], [0, 2, 2]],\n",
      "            'output': [[2, 2, 2, 2, 2, 2, 2, 2, 2],\n",
      "                       [0, 0, 0, 0, 0, 0, 0, 0, 0],\n",
      "                       [0, 2, 2, 0, 2, 2, 0, 2, 2],\n",
      "                       [0, 0, 0, 0, 0, 0, 0, 0, 0],\n",
      "                       [0, 0, 0, 0, 0, 0, 0, 0, 0],\n",
      "                       [0, 0, 0, 0, 0, 0, 0, 0, 0],\n",
      "                       [0, 0, 0, 2, 2, 2, 2, 2, 2],\n",
      "                       [0, 0, 0, 0, 0, 0, 0, 0, 0],\n",
      "                       [0, 0, 0, 0, 2, 2, 0, 2, 2]]}]}\n"
     ]
    }
   ],
   "execution_count": 20
  },
  {
   "metadata": {
    "ExecuteTime": {
     "end_time": "2024-08-21T11:33:43.936472Z",
     "start_time": "2024-08-21T11:33:43.925471Z"
    }
   },
   "cell_type": "code",
   "source": [
    "task = training_challenges['007bbfb7']['train'][0]\n",
    "pp.pprint(task)"
   ],
   "id": "b991f1fa0b55d5db",
   "outputs": [
    {
     "name": "stdout",
     "output_type": "stream",
     "text": [
      "{'input': [[0, 0, 0], [0, 0, 0], [0, 0, 0]],\n",
      " 'output': [[0, 0, 0, 0, 7, 7, 0, 7, 7],\n",
      "            [0, 0, 0, 7, 7, 7, 7, 7, 7],\n",
      "            [0, 0, 0, 0, 7, 7, 0, 7, 7],\n",
      "            [0, 7, 7, 0, 7, 7, 0, 7, 7],\n",
      "            [7, 7, 7, 7, 7, 7, 7, 7, 7],\n",
      "            [0, 7, 7, 0, 7, 7, 0, 7, 7],\n",
      "            [0, 0, 0, 0, 7, 7, 0, 7, 7],\n",
      "            [0, 0, 0, 7, 7, 7, 7, 7, 7],\n",
      "            [0, 0, 0, 0, 7, 7, 0, 7, 7]]}\n"
     ]
    }
   ],
   "execution_count": 111
  },
  {
   "metadata": {},
   "cell_type": "code",
   "source": [
    "for i in range(0, 10):\n",
    "    t = list(training_challenges)[i]\n",
    "    task = training_challenges[t]\n",
    "    task_solution = training_solutions[t][0]\n",
    "    plot_task(task, task_solution, i, t)"
   ],
   "id": "9de219b8b1977a55",
   "outputs": [],
   "execution_count": null
  },
  {
   "metadata": {
    "ExecuteTime": {
     "end_time": "2024-08-21T11:34:19.935886Z",
     "start_time": "2024-08-21T11:34:19.910777Z"
    }
   },
   "cell_type": "code",
   "source": [
    "from enum import Enum\n",
    "\n",
    "\n",
    "class AppendDirection(Enum):\n",
    "    UP = 0\n",
    "    UP_LEFT = 1\n",
    "    UP_RIGHT = 2\n",
    "    LEFT = 3\n",
    "    RIGHT = 4\n",
    "    DOWN = 5\n",
    "    DOWN_LEFT = 6\n",
    "    DOWN_RIGHT = 7\n",
    "\n",
    "\n",
    "class Grid(object):\n",
    "\n",
    "    def __init__(self, grid):\n",
    "        self.shape = (len(grid[0]), len(grid))\n",
    "        self._grid = grid\n",
    "\n",
    "    def sub_grid(self, row_start, row_end, column_start, column_end):\n",
    "        return Grid(self._grid[row_start:row_end, column_start:column_end])\n",
    "\n",
    "    def append(self, other, direction):\n",
    "        new_shape = self.shape\n",
    "        if direction == AppendDirection.UP or direction == AppendDirection.DOWN:\n",
    "            new_shape[0] += other.shape[0]\n",
    "        elif direction == AppendDirection.UP_LEFT or direction == AppendDirection.DOWN_LEFT or direction == AppendDirection.UP_RIGHT or direction == AppendDirection.DOWN_RIGHT:\n",
    "            new_shape[0] += other.shape[0]\n",
    "            new_shape[1] += other.shape[1]\n",
    "        elif direction == AppendDirection.LEFT or direction == AppendDirection.RIGHT:\n",
    "            new_shape[1] += other.shape[1]\n",
    "        new_grid = [[0 for column in range(new_shape[1])] for row in range(new_shape[0])]\n",
    "        if direction == AppendDirection.UP:\n",
    "            for row in range(other.shape[0]):\n",
    "                for col in range(other.shape[1]):\n",
    "                    new_grid[row][col] += other._grid[row][col]\n",
    "            for row in range(self.shape[0]):\n",
    "                for col in range(self.shape[1]):\n",
    "                    new_grid[row + other.shape[0]][col] += self._grid[row][col]\n",
    "        return Grid(new_grid)\n",
    "\n",
    "    def __sub__(self, other):\n",
    "        new_grid = self._grid[:][:]\n",
    "        if (other.shape != self.shape):\n",
    "            raise ValueError(\"Shapes do not match\")\n",
    "        else:\n",
    "            for i in range(self.shape[0]):\n",
    "                for j in range(self.shape[1]):\n",
    "                    if other._grid[i][j] != 0:\n",
    "                        new_grid[i][j] = 0\n",
    "        return Grid(new_grid)\n",
    "\n",
    "    def __add__(self, other):\n",
    "        new_grid = self._grid[:][:]\n",
    "        if (other.shape != self.shape):\n",
    "            raise ValueError(\"Shapes do not match\")\n",
    "        else:\n",
    "            for i in range(self.shape[0]):\n",
    "                for j in range(self.shape[1]):\n",
    "                    if other._grid[i][j] != 0:\n",
    "                        self._grid[i][j] = other._grid[i][j]\n",
    "        return Grid(new_grid)\n",
    "\n",
    "\n",
    "class ChallengePair(object):\n",
    "\n",
    "    def __init__(self, input, output):\n",
    "        self.input_grid = Grid(input)\n",
    "        self.output_grid = Grid(output)\n"
   ],
   "id": "ec4b16017b10d9e9",
   "outputs": [],
   "execution_count": 121
  },
  {
   "metadata": {
    "ExecuteTime": {
     "end_time": "2024-08-21T11:35:16.138999Z",
     "start_time": "2024-08-21T11:35:16.124999Z"
    }
   },
   "cell_type": "code",
   "source": "cp = ChallengePair(training_challenges['007bbfb7']['train'][0]['input'], training_challenges['007bbfb7']['train'][0]['output'])",
   "id": "31689cad3534c7ac",
   "outputs": [],
   "execution_count": 123
  },
  {
   "metadata": {
    "ExecuteTime": {
     "end_time": "2024-08-21T11:35:16.449010Z",
     "start_time": "2024-08-21T11:35:16.431010Z"
    }
   },
   "cell_type": "code",
   "source": [
    "print(cp.input_grid.shape)\n",
    "print(cp.output_grid.shape)"
   ],
   "id": "eb93f7c987af86c0",
   "outputs": [
    {
     "name": "stdout",
     "output_type": "stream",
     "text": [
      "(3, 3)\n",
      "(9, 9)\n"
     ]
    }
   ],
   "execution_count": 124
  },
  {
   "metadata": {
    "ExecuteTime": {
     "end_time": "2024-08-21T11:35:17.077088Z",
     "start_time": "2024-08-21T11:35:17.059563Z"
    }
   },
   "cell_type": "code",
   "source": "cp.input_grid._grid",
   "id": "e8d8e6bab95c772d",
   "outputs": [
    {
     "data": {
      "text/plain": [
       "[[0, 7, 7], [7, 7, 7], [0, 7, 7]]"
      ]
     },
     "execution_count": 125,
     "metadata": {},
     "output_type": "execute_result"
    }
   ],
   "execution_count": 125
  },
  {
   "metadata": {
    "ExecuteTime": {
     "end_time": "2024-08-21T11:35:18.339363Z",
     "start_time": "2024-08-21T11:35:18.326400Z"
    }
   },
   "cell_type": "code",
   "source": "diff = cp.input_grid - cp.input_grid",
   "id": "b4679828774c3cb6",
   "outputs": [],
   "execution_count": 126
  },
  {
   "metadata": {
    "ExecuteTime": {
     "end_time": "2024-08-21T11:35:19.020813Z",
     "start_time": "2024-08-21T11:35:19.001813Z"
    }
   },
   "cell_type": "code",
   "source": "cp.input_grid._grid",
   "id": "4d05948bd73e9c27",
   "outputs": [
    {
     "data": {
      "text/plain": [
       "[[0, 0, 0], [0, 0, 0], [0, 0, 0]]"
      ]
     },
     "execution_count": 127,
     "metadata": {},
     "output_type": "execute_result"
    }
   ],
   "execution_count": 127
  },
  {
   "metadata": {
    "ExecuteTime": {
     "end_time": "2024-08-21T11:34:04.845990Z",
     "start_time": "2024-08-21T11:34:04.831990Z"
    }
   },
   "cell_type": "code",
   "source": "diff._grid",
   "id": "f2c0b0f5cfc9a399",
   "outputs": [
    {
     "data": {
      "text/plain": [
       "[[0, 0, 0], [0, 0, 0], [0, 0, 0]]"
      ]
     },
     "execution_count": 118,
     "metadata": {},
     "output_type": "execute_result"
    }
   ],
   "execution_count": 118
  },
  {
   "metadata": {
    "ExecuteTime": {
     "end_time": "2024-08-21T11:34:05.849341Z",
     "start_time": "2024-08-21T11:34:05.835345Z"
    }
   },
   "cell_type": "code",
   "source": "diff = diff + cp.input_grid",
   "id": "c64964a246eab58e",
   "outputs": [],
   "execution_count": 119
  },
  {
   "metadata": {
    "ExecuteTime": {
     "end_time": "2024-08-21T11:34:06.501456Z",
     "start_time": "2024-08-21T11:34:06.495456Z"
    }
   },
   "cell_type": "code",
   "source": "diff._grid",
   "id": "b180ec996d7fb759",
   "outputs": [
    {
     "data": {
      "text/plain": [
       "[[0, 0, 0], [0, 0, 0], [0, 0, 0]]"
      ]
     },
     "execution_count": 120,
     "metadata": {},
     "output_type": "execute_result"
    }
   ],
   "execution_count": 120
  },
  {
   "metadata": {},
   "cell_type": "code",
   "outputs": [],
   "execution_count": null,
   "source": "",
   "id": "ec867d19f0eb07da"
  }
 ],
 "metadata": {
  "kernelspec": {
   "display_name": "Python 3",
   "language": "python",
   "name": "python3"
  },
  "language_info": {
   "codemirror_mode": {
    "name": "ipython",
    "version": 2
   },
   "file_extension": ".py",
   "mimetype": "text/x-python",
   "name": "python",
   "nbconvert_exporter": "python",
   "pygments_lexer": "ipython2",
   "version": "2.7.6"
  }
 },
 "nbformat": 4,
 "nbformat_minor": 5
}
