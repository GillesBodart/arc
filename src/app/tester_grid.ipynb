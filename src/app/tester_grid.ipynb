{
 "cells": [
  {
   "cell_type": "code",
   "id": "initial_id",
   "metadata": {
    "collapsed": true,
    "ExecuteTime": {
     "end_time": "2024-08-22T06:33:28.783939Z",
     "start_time": "2024-08-22T06:33:28.770510Z"
    }
   },
   "source": [
    "import json\n",
    "import pprint\n",
    "import pandas as pd\n",
    "import numpy as np\n",
    "\n",
    "import matplotlib.pyplot as plt\n",
    "from matplotlib import colors\n",
    "import seaborn as sns\n",
    "import copy\n",
    "import json\n",
    "import os\n",
    "from pathlib import Path\n",
    "\n",
    "from subprocess import Popen, PIPE, STDOUT\n",
    "from glob import glob"
   ],
   "outputs": [],
   "execution_count": 1
  },
  {
   "cell_type": "code",
   "source": [],
   "metadata": {
    "collapsed": false,
    "ExecuteTime": {
     "end_time": "2024-08-22T06:33:28.799985Z",
     "start_time": "2024-08-22T06:33:28.788942Z"
    }
   },
   "id": "8de9b30f1c8be2a4",
   "outputs": [],
   "execution_count": 1
  },
  {
   "cell_type": "code",
   "source": [
    "def load_json(file_path):\n",
    "    with open(file_path) as f:\n",
    "        data = json.load(f)\n",
    "    return data\n"
   ],
   "metadata": {
    "collapsed": false,
    "ExecuteTime": {
     "end_time": "2024-08-22T06:33:28.815942Z",
     "start_time": "2024-08-22T06:33:28.802945Z"
    }
   },
   "id": "9c0c71fbffcb7b44",
   "outputs": [],
   "execution_count": 2
  },
  {
   "cell_type": "code",
   "source": [
    "base_path = '../../data/'\n",
    "\n",
    "training_challenges = load_json(base_path + 'arc-agi_training_challenges.json')\n",
    "training_solutions = load_json(base_path + 'arc-agi_training_solutions.json')\n",
    "\n",
    "evaluation_challenges = load_json(base_path + 'arc-agi_evaluation_challenges.json')\n",
    "evaluation_solutions = load_json(base_path + 'arc-agi_evaluation_solutions.json')\n",
    "\n",
    "test_challenges = load_json(base_path + 'arc-agi_test_challenges.json')"
   ],
   "metadata": {
    "collapsed": false,
    "ExecuteTime": {
     "end_time": "2024-08-22T06:33:29.018801Z",
     "start_time": "2024-08-22T06:33:28.825943Z"
    }
   },
   "id": "3f2244f4d1177e2a",
   "outputs": [],
   "execution_count": 3
  },
  {
   "cell_type": "code",
   "source": [
    "%load_ext autoreload\n",
    "%autoreload 2\n",
    "from src.model.grid import *\n",
    "from src.model.challenge_pair import *"
   ],
   "metadata": {
    "collapsed": false,
    "ExecuteTime": {
     "end_time": "2024-08-22T06:33:29.130327Z",
     "start_time": "2024-08-22T06:33:29.020808Z"
    }
   },
   "id": "ca62284941603b73",
   "outputs": [],
   "execution_count": 4
  },
  {
   "cell_type": "code",
   "source": [
    "cp = ChallengePair(training_challenges['007bbfb7']['train'][0]['input'], training_challenges['007bbfb7']['train'][0]['output'])\n"
   ],
   "metadata": {
    "collapsed": false,
    "ExecuteTime": {
     "end_time": "2024-08-22T06:33:29.224463Z",
     "start_time": "2024-08-22T06:33:29.131328Z"
    }
   },
   "id": "fb2d715b5d71ce6f",
   "outputs": [],
   "execution_count": 5
  },
  {
   "cell_type": "code",
   "source": [
    "print(cp.input_grid.shape)\n",
    "print(cp.output_grid.shape)"
   ],
   "metadata": {
    "collapsed": false,
    "ExecuteTime": {
     "end_time": "2024-08-22T06:33:29.334017Z",
     "start_time": "2024-08-22T06:33:29.227464Z"
    }
   },
   "id": "efd45019dacbb8f7",
   "outputs": [
    {
     "name": "stdout",
     "output_type": "stream",
     "text": [
      "(3, 3)\n",
      "(9, 9)\n"
     ]
    }
   ],
   "execution_count": 6
  },
  {
   "cell_type": "code",
   "source": [
    "cp.input_grid._grid\n",
    "\n"
   ],
   "metadata": {
    "collapsed": false,
    "ExecuteTime": {
     "end_time": "2024-08-22T06:33:29.426538Z",
     "start_time": "2024-08-22T06:33:29.335996Z"
    }
   },
   "id": "1cd73361b39195d1",
   "outputs": [
    {
     "data": {
      "text/plain": [
       "[[0, 7, 7], [7, 7, 7], [0, 7, 7]]"
      ]
     },
     "execution_count": 7,
     "metadata": {},
     "output_type": "execute_result"
    }
   ],
   "execution_count": 7
  },
  {
   "cell_type": "code",
   "source": [
    "diff = cp.input_grid - cp.input_grid\n"
   ],
   "metadata": {
    "collapsed": false,
    "ExecuteTime": {
     "end_time": "2024-08-22T06:33:29.520675Z",
     "start_time": "2024-08-22T06:33:29.428542Z"
    }
   },
   "id": "e290eaf431516324",
   "outputs": [],
   "execution_count": 8
  },
  {
   "cell_type": "code",
   "source": [
    "cp.input_grid._grid\n"
   ],
   "metadata": {
    "collapsed": false,
    "ExecuteTime": {
     "end_time": "2024-08-22T06:33:29.616180Z",
     "start_time": "2024-08-22T06:33:29.522675Z"
    }
   },
   "id": "deed4978cdbea186",
   "outputs": [
    {
     "data": {
      "text/plain": [
       "[[0, 7, 7], [7, 7, 7], [0, 7, 7]]"
      ]
     },
     "execution_count": 9,
     "metadata": {},
     "output_type": "execute_result"
    }
   ],
   "execution_count": 9
  },
  {
   "cell_type": "code",
   "source": [
    "diff._grid\n"
   ],
   "metadata": {
    "collapsed": false,
    "ExecuteTime": {
     "end_time": "2024-08-22T06:33:29.708720Z",
     "start_time": "2024-08-22T06:33:29.618183Z"
    }
   },
   "id": "cf3a8a7aae18f6d7",
   "outputs": [
    {
     "data": {
      "text/plain": [
       "[[0, 0, 0], [0, 0, 0], [0, 0, 0]]"
      ]
     },
     "execution_count": 10,
     "metadata": {},
     "output_type": "execute_result"
    }
   ],
   "execution_count": 10
  },
  {
   "cell_type": "code",
   "source": [
    "#diff = diff + cp.input_grid"
   ],
   "metadata": {
    "collapsed": false,
    "ExecuteTime": {
     "end_time": "2024-08-22T06:33:29.801029Z",
     "start_time": "2024-08-22T06:33:29.710496Z"
    }
   },
   "id": "fd4633027863f65",
   "outputs": [],
   "execution_count": 11
  },
  {
   "cell_type": "code",
   "source": [
    "\n",
    "#diff._grid"
   ],
   "metadata": {
    "collapsed": false,
    "ExecuteTime": {
     "end_time": "2024-08-22T06:33:29.895219Z",
     "start_time": "2024-08-22T06:33:29.805023Z"
    }
   },
   "id": "6f656e3e8f94a1bc",
   "outputs": [],
   "execution_count": 12
  },
  {
   "cell_type": "code",
   "source": [
    "d2 = diff.append(cp.input_grid,AppendDirection.DOWN)\n",
    "print(d2.shape)\n",
    "print(d2._grid)"
   ],
   "metadata": {
    "collapsed": false,
    "ExecuteTime": {
     "end_time": "2024-08-22T06:33:29.990688Z",
     "start_time": "2024-08-22T06:33:29.898161Z"
    }
   },
   "id": "15f079682bc569dd",
   "outputs": [
    {
     "name": "stdout",
     "output_type": "stream",
     "text": [
      "(3, 6)\n",
      "[[0, 0, 0], [0, 0, 0], [0, 0, 0], [0, 7, 7], [7, 7, 7], [0, 7, 7]]\n"
     ]
    }
   ],
   "execution_count": 13
  },
  {
   "cell_type": "code",
   "source": [
    "d2 = diff.append(cp.input_grid,AppendDirection.UP)\n",
    "print(d2.shape)\n",
    "print(d2._grid)"
   ],
   "metadata": {
    "collapsed": false,
    "ExecuteTime": {
     "end_time": "2024-08-22T06:33:30.084261Z",
     "start_time": "2024-08-22T06:33:29.992688Z"
    }
   },
   "id": "7cbeafcf08c1edf",
   "outputs": [
    {
     "name": "stdout",
     "output_type": "stream",
     "text": [
      "(3, 6)\n",
      "[[0, 7, 7], [7, 7, 7], [0, 7, 7], [0, 0, 0], [0, 0, 0], [0, 0, 0]]\n"
     ]
    }
   ],
   "execution_count": 14
  },
  {
   "cell_type": "code",
   "source": [
    "d2 = diff.append(cp.input_grid,AppendDirection.LEFT)\n",
    "print(d2.shape)\n",
    "print(d2._grid)"
   ],
   "metadata": {
    "collapsed": false,
    "ExecuteTime": {
     "end_time": "2024-08-22T06:33:30.179162Z",
     "start_time": "2024-08-22T06:33:30.086268Z"
    }
   },
   "id": "4f9fef2af8d99af8",
   "outputs": [
    {
     "name": "stdout",
     "output_type": "stream",
     "text": [
      "(6, 3)\n",
      "[[0, 7, 7, 0, 0, 0], [7, 7, 7, 0, 0, 0], [0, 7, 7, 0, 0, 0]]\n"
     ]
    }
   ],
   "execution_count": 15
  },
  {
   "cell_type": "code",
   "source": [
    "d2 = diff.append(cp.input_grid,AppendDirection.RIGHT)\n",
    "print(d2.shape)\n",
    "print(d2._grid)\n",
    "\n"
   ],
   "metadata": {
    "collapsed": false,
    "ExecuteTime": {
     "end_time": "2024-08-22T06:33:30.272710Z",
     "start_time": "2024-08-22T06:33:30.181163Z"
    }
   },
   "id": "8af7ceb24552159c",
   "outputs": [
    {
     "name": "stdout",
     "output_type": "stream",
     "text": [
      "(6, 3)\n",
      "[[0, 0, 0, 0, 7, 7], [0, 0, 0, 7, 7, 7], [0, 0, 0, 0, 7, 7]]\n"
     ]
    }
   ],
   "execution_count": 16
  },
  {
   "cell_type": "code",
   "source": [
    "d2 = diff.append(cp.input_grid,AppendDirection.UP_LEFT)\n",
    "print(d2.shape)\n",
    "print(d2._grid)"
   ],
   "metadata": {
    "collapsed": false,
    "ExecuteTime": {
     "end_time": "2024-08-22T06:33:30.366226Z",
     "start_time": "2024-08-22T06:33:30.273702Z"
    }
   },
   "id": "7c3d12cea967e400",
   "outputs": [
    {
     "name": "stdout",
     "output_type": "stream",
     "text": [
      "(6, 6)\n",
      "[[0, 7, 7, 0, 0, 0], [7, 7, 7, 0, 0, 0], [0, 7, 7, 0, 0, 0], [0, 0, 0, 0, 0, 0], [0, 0, 0, 0, 0, 0], [0, 0, 0, 0, 0, 0]]\n"
     ]
    }
   ],
   "execution_count": 17
  },
  {
   "cell_type": "code",
   "source": [
    "d2 = diff.append(cp.input_grid,AppendDirection.UP_RIGHT)\n",
    "print(d2.shape)\n",
    "print(d2._grid)"
   ],
   "metadata": {
    "collapsed": false,
    "ExecuteTime": {
     "end_time": "2024-08-22T06:33:30.458251Z",
     "start_time": "2024-08-22T06:33:30.368230Z"
    }
   },
   "id": "571deadc4af06b89",
   "outputs": [
    {
     "name": "stdout",
     "output_type": "stream",
     "text": [
      "(6, 6)\n",
      "[[0, 0, 0, 0, 7, 7], [0, 0, 0, 7, 7, 7], [0, 0, 0, 0, 7, 7], [0, 0, 0, 0, 0, 0], [0, 0, 0, 0, 0, 0], [0, 0, 0, 0, 0, 0]]\n"
     ]
    }
   ],
   "execution_count": 18
  },
  {
   "cell_type": "code",
   "source": [
    "d2 = diff.append(cp.input_grid,AppendDirection.DOWN_LEFT)\n",
    "print(d2.shape)\n",
    "print(d2._grid)"
   ],
   "metadata": {
    "collapsed": false,
    "ExecuteTime": {
     "end_time": "2024-08-22T06:33:30.552793Z",
     "start_time": "2024-08-22T06:33:30.459770Z"
    }
   },
   "id": "56e6f7c50f0a7ca7",
   "outputs": [
    {
     "name": "stdout",
     "output_type": "stream",
     "text": [
      "(6, 6)\n",
      "[[0, 0, 0, 0, 0, 0], [0, 0, 0, 0, 0, 0], [0, 0, 0, 0, 0, 0], [0, 7, 7, 0, 0, 0], [7, 7, 7, 0, 0, 0], [0, 7, 7, 0, 0, 0]]\n"
     ]
    }
   ],
   "execution_count": 19
  },
  {
   "cell_type": "code",
   "source": [
    "d2 = diff.append(cp.input_grid,AppendDirection.DOWN_RIGHT)\n",
    "print(d2.shape)\n",
    "print(d2._grid)"
   ],
   "metadata": {
    "collapsed": false,
    "ExecuteTime": {
     "end_time": "2024-08-22T06:33:30.646310Z",
     "start_time": "2024-08-22T06:33:30.554788Z"
    }
   },
   "id": "51fd7ce2de1aa066",
   "outputs": [
    {
     "name": "stdout",
     "output_type": "stream",
     "text": [
      "(6, 6)\n",
      "[[0, 7, 7, 0, 0, 0], [7, 7, 7, 0, 0, 0], [0, 7, 7, 0, 0, 0], [0, 0, 0, 0, 0, 0], [0, 0, 0, 0, 0, 0], [0, 0, 0, 0, 0, 0]]\n"
     ]
    }
   ],
   "execution_count": 20
  },
  {
   "cell_type": "code",
   "source": "d2.show()",
   "metadata": {
    "collapsed": false,
    "ExecuteTime": {
     "end_time": "2024-08-22T06:33:30.864023Z",
     "start_time": "2024-08-22T06:33:30.648312Z"
    }
   },
   "id": "407b88d62c968e42",
   "outputs": [
    {
     "data": {
      "text/plain": [
       "<Figure size 640x480 with 1 Axes>"
      ],
      "image/png": "[encoded data removed]"
     },
     "metadata": {},
     "output_type": "display_data"
    }
   ],
   "execution_count": 21
  },
  {
   "metadata": {
    "ExecuteTime": {
     "end_time": "2024-08-22T06:33:46.630972Z",
     "start_time": "2024-08-22T06:33:45.137849Z"
    }
   },
   "cell_type": "code",
   "source": "cp.input_grid.show()",
   "id": "4113617ff6a7644b",
   "outputs": [
    {
     "data": {
      "text/plain": [
       "<Figure size 640x480 with 1 Axes>"
      ],
      "image/png": "[encoded data removed]"
     },
     "metadata": {},
     "output_type": "display_data"
    }
   ],
   "execution_count": 22
  },
  {
   "metadata": {
    "ExecuteTime": {
     "end_time": "2024-08-22T06:33:55.975453Z",
     "start_time": "2024-08-22T06:33:55.709495Z"
    }
   },
   "cell_type": "code",
   "source": "cp.output_grid.show()",
   "id": "290435afe8ea04be",
   "outputs": [
    {
     "data": {
      "text/plain": [
       "<Figure size 640x480 with 1 Axes>"
      ],
      "image/png": "[encoded data removed]"
     },
     "metadata": {},
     "output_type": "display_data"
    }
   ],
   "execution_count": 23
  }
 ],
 "metadata": {
  "kernelspec": {
   "display_name": "Python 3",
   "language": "python",
   "name": "python3"
  },
  "language_info": {
   "codemirror_mode": {
    "name": "ipython",
    "version": 2
   },
   "file_extension": ".py",
   "mimetype": "text/x-python",
   "name": "python",
   "nbconvert_exporter": "python",
   "pygments_lexer": "ipython2",
   "version": "2.7.6"
  }
 },
 "nbformat": 4,
 "nbformat_minor": 5
}
