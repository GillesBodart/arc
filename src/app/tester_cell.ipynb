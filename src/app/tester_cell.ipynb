{
 "cells": [
  {
   "cell_type": "code",
   "id": "initial_id",
   "metadata": {
    "collapsed": true,
    "ExecuteTime": {
     "end_time": "2024-08-22T07:14:50.178871Z",
     "start_time": "2024-08-22T07:14:50.163862Z"
    }
   },
   "source": [
    "import json\n",
    "import pprint\n",
    "import pandas as pd\n",
    "import numpy as np\n",
    "\n",
    "import matplotlib.pyplot as plt\n",
    "from matplotlib import colors\n",
    "import seaborn as sns\n",
    "import copy\n",
    "import json\n",
    "import os\n",
    "from pathlib import Path\n",
    "\n",
    "from subprocess import Popen, PIPE, STDOUT\n",
    "from glob import glob"
   ],
   "outputs": [],
   "execution_count": 1
  },
  {
   "cell_type": "code",
   "source": [],
   "metadata": {
    "collapsed": false,
    "ExecuteTime": {
     "end_time": "2024-08-22T07:14:50.193880Z",
     "start_time": "2024-08-22T07:14:50.180859Z"
    }
   },
   "id": "8de9b30f1c8be2a4",
   "outputs": [],
   "execution_count": 1
  },
  {
   "cell_type": "code",
   "source": [
    "def load_json(file_path):\n",
    "    with open(file_path) as f:\n",
    "        data = json.load(f)\n",
    "    return data\n"
   ],
   "metadata": {
    "collapsed": false,
    "ExecuteTime": {
     "end_time": "2024-08-22T07:14:50.209219Z",
     "start_time": "2024-08-22T07:14:50.194864Z"
    }
   },
   "id": "9c0c71fbffcb7b44",
   "outputs": [],
   "execution_count": 2
  },
  {
   "metadata": {
    "ExecuteTime": {
     "end_time": "2024-08-22T07:14:50.256455Z",
     "start_time": "2024-08-22T07:14:50.210236Z"
    }
   },
   "cell_type": "code",
   "source": [
    "base_path = '../../data/'\n",
    "\n",
    "training_challenges = load_json(base_path + 'arc-agi_training_challenges.json') "
   ],
   "id": "3f2244f4d1177e2a",
   "outputs": [],
   "execution_count": 3
  },
  {
   "metadata": {
    "ExecuteTime": {
     "end_time": "2024-08-22T07:14:50.364973Z",
     "start_time": "2024-08-22T07:14:50.258458Z"
    }
   },
   "cell_type": "code",
   "source": [
    "%load_ext autoreload\n",
    "%autoreload 2\n",
    "from src.model.cell import *\n",
    "from src.model.grid import *\n",
    "from src.model.challenge_pair import *"
   ],
   "id": "ca62284941603b73",
   "outputs": [],
   "execution_count": 4
  },
  {
   "metadata": {
    "ExecuteTime": {
     "end_time": "2024-08-22T07:14:50.455930Z",
     "start_time": "2024-08-22T07:14:50.366977Z"
    }
   },
   "cell_type": "code",
   "source": [
    "g = Grid(training_challenges['007bbfb7']['train'][0]['input'])\n",
    "c1 = Cell(g,1,1,7)\n",
    "c2 = Cell(g,1,0,7)\n",
    "c3 = Cell(g,0,0,7)\n",
    "c4 = Cell(g,2,2,7)\n",
    "c5 = Cell(g,2,2,1) "
   ],
   "id": "429b726410f1c2f9",
   "outputs": [],
   "execution_count": 5
  },
  {
   "metadata": {
    "ExecuteTime": {
     "end_time": "2024-08-22T07:14:50.563507Z",
     "start_time": "2024-08-22T07:14:50.457924Z"
    }
   },
   "cell_type": "code",
   "source": [
    "#expect True\n",
    "c1.touch(c2)"
   ],
   "id": "87b41a5bbbbe0139",
   "outputs": [
    {
     "data": {
      "text/plain": [
       "True"
      ]
     },
     "execution_count": 6,
     "metadata": {},
     "output_type": "execute_result"
    }
   ],
   "execution_count": 6
  },
  {
   "metadata": {
    "ExecuteTime": {
     "end_time": "2024-08-22T07:14:50.657015Z",
     "start_time": "2024-08-22T07:14:50.567498Z"
    }
   },
   "cell_type": "code",
   "source": [
    "#expect False\n",
    "c3.touch(c4)"
   ],
   "id": "7814ab82bf6d871",
   "outputs": [
    {
     "data": {
      "text/plain": [
       "False"
      ]
     },
     "execution_count": 7,
     "metadata": {},
     "output_type": "execute_result"
    }
   ],
   "execution_count": 7
  },
  {
   "metadata": {
    "ExecuteTime": {
     "end_time": "2024-08-22T07:19:11.342381Z",
     "start_time": "2024-08-22T07:19:10.728642Z"
    }
   },
   "cell_type": "code",
   "source": [
    "#expect False\n",
    "c3.touch(c3)"
   ],
   "id": "a347cc9d38e0d806",
   "outputs": [
    {
     "data": {
      "text/plain": [
       "False"
      ]
     },
     "execution_count": 12,
     "metadata": {},
     "output_type": "execute_result"
    }
   ],
   "execution_count": 12
  },
  {
   "metadata": {
    "ExecuteTime": {
     "end_time": "2024-08-22T07:14:50.865103Z",
     "start_time": "2024-08-22T07:14:50.769580Z"
    }
   },
   "cell_type": "code",
   "source": [
    "#expect True\n",
    "c4.touch(c1)"
   ],
   "id": "289219b89db7ca6e",
   "outputs": [
    {
     "data": {
      "text/plain": [
       "True"
      ]
     },
     "execution_count": 9,
     "metadata": {},
     "output_type": "execute_result"
    }
   ],
   "execution_count": 9
  },
  {
   "metadata": {
    "ExecuteTime": {
     "end_time": "2024-08-22T07:15:30.555888Z",
     "start_time": "2024-08-22T07:15:30.468362Z"
    }
   },
   "cell_type": "code",
   "source": [
    "#expect False\n",
    "c5.color_touch(c1)"
   ],
   "id": "4519cb4e25f43a74",
   "outputs": [
    {
     "data": {
      "text/plain": [
       "False"
      ]
     },
     "execution_count": 11,
     "metadata": {},
     "output_type": "execute_result"
    }
   ],
   "execution_count": 11
  }
 ],
 "metadata": {
  "kernelspec": {
   "display_name": "Python 3",
   "language": "python",
   "name": "python3"
  },
  "language_info": {
   "codemirror_mode": {
    "name": "ipython",
    "version": 2
   },
   "file_extension": ".py",
   "mimetype": "text/x-python",
   "name": "python",
   "nbconvert_exporter": "python",
   "pygments_lexer": "ipython2",
   "version": "2.7.6"
  }
 },
 "nbformat": 4,
 "nbformat_minor": 5
}
