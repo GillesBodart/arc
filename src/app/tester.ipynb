{
 "cells": [
  {
   "cell_type": "code",
   "execution_count": 1,
   "id": "initial_id",
   "metadata": {
    "collapsed": true,
    "ExecuteTime": {
     "end_time": "2024-08-21T20:46:49.148882400Z",
     "start_time": "2024-08-21T20:46:49.133680100Z"
    }
   },
   "outputs": [],
   "source": [
    "import json\n",
    "import pprint\n",
    "import pandas as pd\n",
    "import numpy as np\n",
    "\n",
    "import matplotlib.pyplot as plt\n",
    "from matplotlib import colors\n",
    "import seaborn as sns\n",
    "import copy\n",
    "import json\n",
    "import os\n",
    "from pathlib import Path\n",
    "\n",
    "from subprocess import Popen, PIPE, STDOUT\n",
    "from glob import glob"
   ]
  },
  {
   "cell_type": "code",
   "execution_count": 1,
   "outputs": [],
   "source": [],
   "metadata": {
    "collapsed": false,
    "ExecuteTime": {
     "end_time": "2024-08-21T20:46:49.166393900Z",
     "start_time": "2024-08-21T20:46:49.145459400Z"
    }
   },
   "id": "8de9b30f1c8be2a4"
  },
  {
   "cell_type": "code",
   "execution_count": 2,
   "outputs": [],
   "source": [
    "def load_json(file_path):\n",
    "    with open(file_path) as f:\n",
    "        data = json.load(f)\n",
    "    return data\n"
   ],
   "metadata": {
    "collapsed": false,
    "ExecuteTime": {
     "end_time": "2024-08-21T20:46:49.196976900Z",
     "start_time": "2024-08-21T20:46:49.163093700Z"
    }
   },
   "id": "9c0c71fbffcb7b44"
  },
  {
   "cell_type": "code",
   "execution_count": 3,
   "outputs": [],
   "source": [
    "base_path = '../../data/'\n",
    "\n",
    "training_challenges = load_json(base_path + 'arc-agi_training_challenges.json')\n",
    "training_solutions = load_json(base_path + 'arc-agi_training_solutions.json')\n",
    "\n",
    "evaluation_challenges = load_json(base_path + 'arc-agi_evaluation_challenges.json')\n",
    "evaluation_solutions = load_json(base_path + 'arc-agi_evaluation_solutions.json')\n",
    "\n",
    "test_challenges = load_json(base_path + 'arc-agi_test_challenges.json')"
   ],
   "metadata": {
    "collapsed": false,
    "ExecuteTime": {
     "end_time": "2024-08-21T20:46:49.529467100Z",
     "start_time": "2024-08-21T20:46:49.204264600Z"
    }
   },
   "id": "3f2244f4d1177e2a"
  },
  {
   "cell_type": "code",
   "execution_count": 4,
   "outputs": [],
   "source": [
    "%load_ext autoreload\n",
    "%autoreload 2\n",
    "from src.model.grid import *\n",
    "from src.model.challenge_pair import *"
   ],
   "metadata": {
    "collapsed": false,
    "ExecuteTime": {
     "end_time": "2024-08-21T20:46:49.758101900Z",
     "start_time": "2024-08-21T20:46:49.519552500Z"
    }
   },
   "id": "ca62284941603b73"
  },
  {
   "cell_type": "code",
   "execution_count": 5,
   "outputs": [],
   "source": [
    "cp = ChallengePair(training_challenges['007bbfb7']['train'][0]['input'], training_challenges['007bbfb7']['train'][0]['output'])\n"
   ],
   "metadata": {
    "collapsed": false,
    "ExecuteTime": {
     "end_time": "2024-08-21T20:46:49.913476700Z",
     "start_time": "2024-08-21T20:46:49.764384700Z"
    }
   },
   "id": "fb2d715b5d71ce6f"
  },
  {
   "cell_type": "code",
   "execution_count": 6,
   "outputs": [
    {
     "name": "stdout",
     "output_type": "stream",
     "text": [
      "(3, 3)\n",
      "(9, 9)\n"
     ]
    }
   ],
   "source": [
    "print(cp.input_grid.shape)\n",
    "print(cp.output_grid.shape)"
   ],
   "metadata": {
    "collapsed": false,
    "ExecuteTime": {
     "end_time": "2024-08-21T20:46:50.037641Z",
     "start_time": "2024-08-21T20:46:49.919200300Z"
    }
   },
   "id": "efd45019dacbb8f7"
  },
  {
   "cell_type": "code",
   "execution_count": 7,
   "outputs": [
    {
     "data": {
      "text/plain": "[[0, 7, 7], [7, 7, 7], [0, 7, 7]]"
     },
     "execution_count": 7,
     "metadata": {},
     "output_type": "execute_result"
    }
   ],
   "source": [
    "cp.input_grid._grid\n",
    "\n"
   ],
   "metadata": {
    "collapsed": false,
    "ExecuteTime": {
     "end_time": "2024-08-21T20:46:50.177992300Z",
     "start_time": "2024-08-21T20:46:50.040641Z"
    }
   },
   "id": "1cd73361b39195d1"
  },
  {
   "cell_type": "code",
   "execution_count": 8,
   "outputs": [],
   "source": [
    "diff = cp.input_grid - cp.input_grid\n"
   ],
   "metadata": {
    "collapsed": false,
    "ExecuteTime": {
     "end_time": "2024-08-21T20:46:50.288696Z",
     "start_time": "2024-08-21T20:46:50.181107800Z"
    }
   },
   "id": "e290eaf431516324"
  },
  {
   "cell_type": "code",
   "execution_count": 9,
   "outputs": [
    {
     "data": {
      "text/plain": "[[0, 7, 7], [7, 7, 7], [0, 7, 7]]"
     },
     "execution_count": 9,
     "metadata": {},
     "output_type": "execute_result"
    }
   ],
   "source": [
    "cp.input_grid._grid\n"
   ],
   "metadata": {
    "collapsed": false,
    "ExecuteTime": {
     "end_time": "2024-08-21T20:46:50.397376Z",
     "start_time": "2024-08-21T20:46:50.292708300Z"
    }
   },
   "id": "deed4978cdbea186"
  },
  {
   "cell_type": "code",
   "execution_count": 10,
   "outputs": [
    {
     "data": {
      "text/plain": "[[0, 0, 0], [0, 0, 0], [0, 0, 0]]"
     },
     "execution_count": 10,
     "metadata": {},
     "output_type": "execute_result"
    }
   ],
   "source": [
    "diff._grid\n"
   ],
   "metadata": {
    "collapsed": false,
    "ExecuteTime": {
     "end_time": "2024-08-21T20:46:50.537019500Z",
     "start_time": "2024-08-21T20:46:50.401377Z"
    }
   },
   "id": "cf3a8a7aae18f6d7"
  },
  {
   "cell_type": "code",
   "execution_count": 11,
   "outputs": [],
   "source": [
    "#diff = diff + cp.input_grid"
   ],
   "metadata": {
    "collapsed": false,
    "ExecuteTime": {
     "end_time": "2024-08-21T20:46:50.659579300Z",
     "start_time": "2024-08-21T20:46:50.539125400Z"
    }
   },
   "id": "fd4633027863f65"
  },
  {
   "cell_type": "code",
   "execution_count": 12,
   "outputs": [],
   "source": [
    "\n",
    "#diff._grid"
   ],
   "metadata": {
    "collapsed": false,
    "ExecuteTime": {
     "end_time": "2024-08-21T20:46:50.755935500Z",
     "start_time": "2024-08-21T20:46:50.663580700Z"
    }
   },
   "id": "6f656e3e8f94a1bc"
  },
  {
   "cell_type": "code",
   "execution_count": 13,
   "outputs": [
    {
     "name": "stdout",
     "output_type": "stream",
     "text": [
      "(3, 6)\n",
      "[[0, 0, 0], [0, 0, 0], [0, 0, 0], [0, 7, 7], [7, 7, 7], [0, 7, 7]]\n"
     ]
    }
   ],
   "source": [
    "d2 = diff.append(cp.input_grid,AppendDirection.DOWN)\n",
    "print(d2.shape)\n",
    "print(d2._grid)"
   ],
   "metadata": {
    "collapsed": false,
    "ExecuteTime": {
     "end_time": "2024-08-21T20:46:50.850613300Z",
     "start_time": "2024-08-21T20:46:50.755935500Z"
    }
   },
   "id": "15f079682bc569dd"
  },
  {
   "cell_type": "code",
   "execution_count": 14,
   "outputs": [
    {
     "name": "stdout",
     "output_type": "stream",
     "text": [
      "(3, 6)\n",
      "[[0, 7, 7], [7, 7, 7], [0, 7, 7], [0, 0, 0], [0, 0, 0], [0, 0, 0]]\n"
     ]
    }
   ],
   "source": [
    "d2 = diff.append(cp.input_grid,AppendDirection.UP)\n",
    "print(d2.shape)\n",
    "print(d2._grid)"
   ],
   "metadata": {
    "collapsed": false,
    "ExecuteTime": {
     "end_time": "2024-08-21T20:46:50.959133100Z",
     "start_time": "2024-08-21T20:46:50.851948200Z"
    }
   },
   "id": "7cbeafcf08c1edf"
  },
  {
   "cell_type": "code",
   "execution_count": 15,
   "outputs": [
    {
     "name": "stdout",
     "output_type": "stream",
     "text": [
      "(6, 3)\n",
      "[[0, 7, 7, 0, 0, 0], [7, 7, 7, 0, 0, 0], [0, 7, 7, 0, 0, 0]]\n"
     ]
    }
   ],
   "source": [
    "d2 = diff.append(cp.input_grid,AppendDirection.LEFT)\n",
    "print(d2.shape)\n",
    "print(d2._grid)"
   ],
   "metadata": {
    "collapsed": false,
    "ExecuteTime": {
     "end_time": "2024-08-21T20:46:51.069523400Z",
     "start_time": "2024-08-21T20:46:50.960383Z"
    }
   },
   "id": "4f9fef2af8d99af8"
  },
  {
   "cell_type": "code",
   "execution_count": 16,
   "outputs": [
    {
     "name": "stdout",
     "output_type": "stream",
     "text": [
      "(6, 3)\n",
      "[[0, 0, 0, 0, 7, 7], [0, 0, 0, 7, 7, 7], [0, 0, 0, 0, 7, 7]]\n"
     ]
    }
   ],
   "source": [
    "d2 = diff.append(cp.input_grid,AppendDirection.RIGHT)\n",
    "print(d2.shape)\n",
    "print(d2._grid)"
   ],
   "metadata": {
    "collapsed": false,
    "ExecuteTime": {
     "end_time": "2024-08-21T20:46:51.192217200Z",
     "start_time": "2024-08-21T20:46:51.072967900Z"
    }
   },
   "id": "8af7ceb24552159c"
  },
  {
   "cell_type": "code",
   "execution_count": 17,
   "outputs": [
    {
     "name": "stdout",
     "output_type": "stream",
     "text": [
      "(6, 6)\n",
      "[[0, 0, 0, 0, 0, 0], [0, 0, 0, 0, 0, 0], [0, 0, 0, 0, 0, 0], [0, 0, 0, 0, 0, 0], [0, 0, 0, 0, 0, 0], [0, 0, 0, 0, 0, 0]]\n"
     ]
    }
   ],
   "source": [
    "d2 = diff.append(cp.input_grid,AppendDirection.UP_LEFT)\n",
    "print(d2.shape)\n",
    "print(d2._grid)"
   ],
   "metadata": {
    "collapsed": false,
    "ExecuteTime": {
     "end_time": "2024-08-21T20:46:51.318636Z",
     "start_time": "2024-08-21T20:46:51.196346900Z"
    }
   },
   "id": "7c3d12cea967e400"
  },
  {
   "cell_type": "code",
   "execution_count": 18,
   "outputs": [
    {
     "name": "stdout",
     "output_type": "stream",
     "text": [
      "(6, 6)\n",
      "[[0, 0, 0, 0, 0, 0], [0, 0, 0, 0, 0, 0], [0, 0, 0, 0, 0, 0], [0, 0, 0, 0, 0, 0], [0, 0, 0, 0, 0, 0], [0, 0, 0, 0, 0, 0]]\n"
     ]
    }
   ],
   "source": [
    "d2 = diff.append(cp.input_grid,AppendDirection.UP_RIGHT)\n",
    "print(d2.shape)\n",
    "print(d2._grid)"
   ],
   "metadata": {
    "collapsed": false,
    "ExecuteTime": {
     "end_time": "2024-08-21T20:46:51.445017700Z",
     "start_time": "2024-08-21T20:46:51.321550500Z"
    }
   },
   "id": "571deadc4af06b89"
  },
  {
   "cell_type": "code",
   "execution_count": 19,
   "outputs": [
    {
     "name": "stdout",
     "output_type": "stream",
     "text": [
      "(6, 6)\n",
      "[[0, 0, 0, 0, 0, 0], [0, 0, 0, 0, 0, 0], [0, 0, 0, 0, 0, 0], [0, 0, 0, 0, 0, 0], [0, 0, 0, 0, 0, 0], [0, 0, 0, 0, 0, 0]]\n"
     ]
    }
   ],
   "source": [
    "d2 = diff.append(cp.input_grid,AppendDirection.DOWN_LEFT)\n",
    "print(d2.shape)\n",
    "print(d2._grid)"
   ],
   "metadata": {
    "collapsed": false,
    "ExecuteTime": {
     "end_time": "2024-08-21T20:46:51.555893900Z",
     "start_time": "2024-08-21T20:46:51.448014500Z"
    }
   },
   "id": "56e6f7c50f0a7ca7"
  },
  {
   "cell_type": "code",
   "execution_count": 20,
   "outputs": [
    {
     "name": "stdout",
     "output_type": "stream",
     "text": [
      "(6, 6)\n",
      "[[0, 0, 0, 0, 0, 0], [0, 0, 0, 0, 0, 0], [0, 0, 0, 0, 0, 0], [0, 0, 0, 0, 0, 0], [0, 0, 0, 0, 0, 0], [0, 0, 0, 0, 0, 0]]\n"
     ]
    }
   ],
   "source": [
    "d2 = diff.append(cp.input_grid,AppendDirection.DOWN_RIGHT)\n",
    "print(d2.shape)\n",
    "print(d2._grid)"
   ],
   "metadata": {
    "collapsed": false,
    "ExecuteTime": {
     "end_time": "2024-08-21T20:46:51.694893400Z",
     "start_time": "2024-08-21T20:46:51.557345Z"
    }
   },
   "id": "51fd7ce2de1aa066"
  },
  {
   "cell_type": "code",
   "execution_count": 20,
   "outputs": [],
   "source": [],
   "metadata": {
    "collapsed": false,
    "ExecuteTime": {
     "end_time": "2024-08-21T20:46:51.754146100Z",
     "start_time": "2024-08-21T20:46:51.694893400Z"
    }
   },
   "id": "407b88d62c968e42"
  }
 ],
 "metadata": {
  "kernelspec": {
   "display_name": "Python 3",
   "language": "python",
   "name": "python3"
  },
  "language_info": {
   "codemirror_mode": {
    "name": "ipython",
    "version": 2
   },
   "file_extension": ".py",
   "mimetype": "text/x-python",
   "name": "python",
   "nbconvert_exporter": "python",
   "pygments_lexer": "ipython2",
   "version": "2.7.6"
  }
 },
 "nbformat": 4,
 "nbformat_minor": 5
}
