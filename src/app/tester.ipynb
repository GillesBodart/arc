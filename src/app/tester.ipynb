{
 "cells": [
  {
   "cell_type": "code",
   "execution_count": 1,
   "id": "initial_id",
   "metadata": {
    "collapsed": true,
    "ExecuteTime": {
     "end_time": "2024-08-21T20:38:31.508271400Z",
     "start_time": "2024-08-21T20:38:31.486790500Z"
    }
   },
   "outputs": [],
   "source": [
    "import json\n",
    "import pprint\n",
    "import pandas as pd\n",
    "import numpy as np\n",
    "\n",
    "import matplotlib.pyplot as plt\n",
    "from matplotlib import colors\n",
    "import seaborn as sns\n",
    "import copy\n",
    "import json\n",
    "import os\n",
    "from pathlib import Path\n",
    "\n",
    "from subprocess import Popen, PIPE, STDOUT\n",
    "from glob import glob"
   ]
  },
  {
   "cell_type": "code",
   "execution_count": 1,
   "outputs": [],
   "source": [],
   "metadata": {
    "collapsed": false,
    "ExecuteTime": {
     "end_time": "2024-08-21T20:38:31.526248100Z",
     "start_time": "2024-08-21T20:38:31.511572100Z"
    }
   },
   "id": "8de9b30f1c8be2a4"
  },
  {
   "cell_type": "code",
   "execution_count": 2,
   "outputs": [],
   "source": [
    "def load_json(file_path):\n",
    "    with open(file_path) as f:\n",
    "        data = json.load(f)\n",
    "    return data\n"
   ],
   "metadata": {
    "collapsed": false,
    "ExecuteTime": {
     "end_time": "2024-08-21T20:38:31.558913200Z",
     "start_time": "2024-08-21T20:38:31.530242300Z"
    }
   },
   "id": "9c0c71fbffcb7b44"
  },
  {
   "cell_type": "code",
   "execution_count": 3,
   "outputs": [],
   "source": [
    "base_path = '../../data/'\n",
    "\n",
    "training_challenges = load_json(base_path + 'arc-agi_training_challenges.json')\n",
    "training_solutions = load_json(base_path + 'arc-agi_training_solutions.json')\n",
    "\n",
    "evaluation_challenges = load_json(base_path + 'arc-agi_evaluation_challenges.json')\n",
    "evaluation_solutions = load_json(base_path + 'arc-agi_evaluation_solutions.json')\n",
    "\n",
    "test_challenges = load_json(base_path + 'arc-agi_test_challenges.json')"
   ],
   "metadata": {
    "collapsed": false,
    "ExecuteTime": {
     "end_time": "2024-08-21T20:38:31.848791200Z",
     "start_time": "2024-08-21T20:38:31.544787400Z"
    }
   },
   "id": "3f2244f4d1177e2a"
  },
  {
   "cell_type": "code",
   "execution_count": 4,
   "outputs": [],
   "source": [
    "%load_ext autoreload\n",
    "%autoreload 2\n",
    "from src.model.grid import *\n",
    "from src.model.challenge_pair import *"
   ],
   "metadata": {
    "collapsed": false,
    "ExecuteTime": {
     "end_time": "2024-08-21T20:38:32.004871Z",
     "start_time": "2024-08-21T20:38:31.850793Z"
    }
   },
   "id": "ca62284941603b73"
  },
  {
   "cell_type": "code",
   "execution_count": 5,
   "outputs": [],
   "source": [
    "cp = ChallengePair(training_challenges['007bbfb7']['train'][0]['input'], training_challenges['007bbfb7']['train'][0]['output'])\n"
   ],
   "metadata": {
    "collapsed": false,
    "ExecuteTime": {
     "end_time": "2024-08-21T20:38:32.155388700Z",
     "start_time": "2024-08-21T20:38:32.006873700Z"
    }
   },
   "id": "fb2d715b5d71ce6f"
  },
  {
   "cell_type": "code",
   "execution_count": 6,
   "outputs": [
    {
     "name": "stdout",
     "output_type": "stream",
     "text": [
      "(3, 3)\n",
      "(9, 9)\n"
     ]
    }
   ],
   "source": [
    "print(cp.input_grid.shape)\n",
    "print(cp.output_grid.shape)"
   ],
   "metadata": {
    "collapsed": false,
    "ExecuteTime": {
     "end_time": "2024-08-21T20:38:32.288403Z",
     "start_time": "2024-08-21T20:38:32.147614500Z"
    }
   },
   "id": "efd45019dacbb8f7"
  },
  {
   "cell_type": "code",
   "execution_count": 7,
   "outputs": [
    {
     "data": {
      "text/plain": "[[0, 7, 7], [7, 7, 7], [0, 7, 7]]"
     },
     "execution_count": 7,
     "metadata": {},
     "output_type": "execute_result"
    }
   ],
   "source": [
    "cp.input_grid._grid\n",
    "\n"
   ],
   "metadata": {
    "collapsed": false,
    "ExecuteTime": {
     "end_time": "2024-08-21T20:38:32.432969200Z",
     "start_time": "2024-08-21T20:38:32.289592300Z"
    }
   },
   "id": "1cd73361b39195d1"
  },
  {
   "cell_type": "code",
   "execution_count": 19,
   "outputs": [],
   "source": [
    "diff = cp.input_grid - cp.input_grid\n"
   ],
   "metadata": {
    "collapsed": false,
    "ExecuteTime": {
     "end_time": "2024-08-21T20:39:09.783823200Z",
     "start_time": "2024-08-21T20:39:09.669082800Z"
    }
   },
   "id": "e290eaf431516324"
  },
  {
   "cell_type": "code",
   "execution_count": 9,
   "outputs": [
    {
     "data": {
      "text/plain": "[[0, 7, 7], [7, 7, 7], [0, 7, 7]]"
     },
     "execution_count": 9,
     "metadata": {},
     "output_type": "execute_result"
    }
   ],
   "source": [
    "cp.input_grid._grid\n"
   ],
   "metadata": {
    "collapsed": false,
    "ExecuteTime": {
     "end_time": "2024-08-21T20:38:32.711777200Z",
     "start_time": "2024-08-21T20:38:32.584611600Z"
    }
   },
   "id": "deed4978cdbea186"
  },
  {
   "cell_type": "code",
   "execution_count": 10,
   "outputs": [
    {
     "data": {
      "text/plain": "[[0, 0, 0], [0, 0, 0], [0, 0, 0]]"
     },
     "execution_count": 10,
     "metadata": {},
     "output_type": "execute_result"
    }
   ],
   "source": [
    "diff._grid\n"
   ],
   "metadata": {
    "collapsed": false,
    "ExecuteTime": {
     "end_time": "2024-08-21T20:38:32.829059200Z",
     "start_time": "2024-08-21T20:38:32.706776700Z"
    }
   },
   "id": "cf3a8a7aae18f6d7"
  },
  {
   "cell_type": "code",
   "execution_count": 11,
   "outputs": [],
   "source": [
    "#diff = diff + cp.input_grid"
   ],
   "metadata": {
    "collapsed": false,
    "ExecuteTime": {
     "end_time": "2024-08-21T20:38:32.968946100Z",
     "start_time": "2024-08-21T20:38:32.832087800Z"
    }
   },
   "id": "fd4633027863f65"
  },
  {
   "cell_type": "code",
   "execution_count": 12,
   "outputs": [
    {
     "data": {
      "text/plain": "[[0, 7, 7], [7, 7, 7], [0, 7, 7]]"
     },
     "execution_count": 12,
     "metadata": {},
     "output_type": "execute_result"
    }
   ],
   "source": [
    "\n",
    "#diff._grid"
   ],
   "metadata": {
    "collapsed": false,
    "ExecuteTime": {
     "end_time": "2024-08-21T20:38:33.093670800Z",
     "start_time": "2024-08-21T20:38:32.971021100Z"
    }
   },
   "id": "6f656e3e8f94a1bc"
  },
  {
   "cell_type": "code",
   "execution_count": 20,
   "outputs": [],
   "source": [
    "d2 = diff.append(cp.input_grid,AppendDirection.DOWN)"
   ],
   "metadata": {
    "collapsed": false,
    "ExecuteTime": {
     "end_time": "2024-08-21T20:39:13.582418900Z",
     "start_time": "2024-08-21T20:39:13.470940900Z"
    }
   },
   "id": "15f079682bc569dd"
  },
  {
   "cell_type": "code",
   "execution_count": 24,
   "outputs": [
    {
     "data": {
      "text/plain": "(3, 6)"
     },
     "execution_count": 24,
     "metadata": {},
     "output_type": "execute_result"
    }
   ],
   "source": [
    "d2.shape"
   ],
   "metadata": {
    "collapsed": false,
    "ExecuteTime": {
     "end_time": "2024-08-21T20:39:30.429871Z",
     "start_time": "2024-08-21T20:39:30.315456200Z"
    }
   },
   "id": "7cbeafcf08c1edf"
  },
  {
   "cell_type": "code",
   "execution_count": 25,
   "outputs": [
    {
     "data": {
      "text/plain": "[[0, 7, 7], [7, 7, 7], [0, 7, 7], [0, 0, 0], [0, 0, 0], [0, 0, 0]]"
     },
     "execution_count": 25,
     "metadata": {},
     "output_type": "execute_result"
    }
   ],
   "source": [
    "d2._grid"
   ],
   "metadata": {
    "collapsed": false,
    "ExecuteTime": {
     "end_time": "2024-08-21T20:39:31.250101200Z",
     "start_time": "2024-08-21T20:39:31.053029900Z"
    }
   },
   "id": "934e2decef8b4b09"
  },
  {
   "cell_type": "code",
   "execution_count": 23,
   "outputs": [],
   "source": [
    "d2 = diff.append(cp.input_grid,AppendDirection.UP)"
   ],
   "metadata": {
    "collapsed": false,
    "ExecuteTime": {
     "end_time": "2024-08-21T20:39:27.399422900Z",
     "start_time": "2024-08-21T20:39:27.253504400Z"
    }
   },
   "id": "5b2de066767b26a1"
  },
  {
   "cell_type": "code",
   "execution_count": null,
   "outputs": [],
   "source": [
    "d2.shape\n"
   ],
   "metadata": {
    "collapsed": false
   },
   "id": "355aaaf901755c6"
  },
  {
   "cell_type": "code",
   "execution_count": null,
   "outputs": [],
   "source": [
    "d2._grid\n"
   ],
   "metadata": {
    "collapsed": false
   },
   "id": "c18d05136337947f"
  },
  {
   "cell_type": "code",
   "execution_count": 26,
   "outputs": [
    {
     "data": {
      "text/plain": "(6, 3)"
     },
     "execution_count": 26,
     "metadata": {},
     "output_type": "execute_result"
    }
   ],
   "source": [
    "d2 = diff.append(cp.input_grid,AppendDirection.LEFT)\n",
    "d2.shape"
   ],
   "metadata": {
    "collapsed": false,
    "ExecuteTime": {
     "end_time": "2024-08-21T20:40:28.013015900Z",
     "start_time": "2024-08-21T20:40:27.710329400Z"
    }
   },
   "id": "4f9fef2af8d99af8"
  },
  {
   "cell_type": "code",
   "execution_count": 27,
   "outputs": [
    {
     "data": {
      "text/plain": "(6, 3)"
     },
     "execution_count": 27,
     "metadata": {},
     "output_type": "execute_result"
    }
   ],
   "source": [
    "d2 = diff.append(cp.input_grid,AppendDirection.RIGHT)\n",
    "d2.shape"
   ],
   "metadata": {
    "collapsed": false,
    "ExecuteTime": {
     "end_time": "2024-08-21T20:40:42.786371900Z",
     "start_time": "2024-08-21T20:40:42.651437300Z"
    }
   },
   "id": "8af7ceb24552159c"
  },
  {
   "cell_type": "code",
   "execution_count": 28,
   "outputs": [
    {
     "data": {
      "text/plain": "(6, 6)"
     },
     "execution_count": 28,
     "metadata": {},
     "output_type": "execute_result"
    }
   ],
   "source": [
    "d2 = diff.append(cp.input_grid,AppendDirection.UP_LEFT)\n",
    "d2.shape"
   ],
   "metadata": {
    "collapsed": false,
    "ExecuteTime": {
     "end_time": "2024-08-21T20:40:50.119875200Z",
     "start_time": "2024-08-21T20:40:49.982979800Z"
    }
   },
   "id": "7c3d12cea967e400"
  },
  {
   "cell_type": "code",
   "execution_count": 29,
   "outputs": [
    {
     "data": {
      "text/plain": "(6, 6)"
     },
     "execution_count": 29,
     "metadata": {},
     "output_type": "execute_result"
    }
   ],
   "source": [
    "d2 = diff.append(cp.input_grid,AppendDirection.UP_RIGHT)\n",
    "d2.shape"
   ],
   "metadata": {
    "collapsed": false,
    "ExecuteTime": {
     "end_time": "2024-08-21T20:40:59.681567100Z",
     "start_time": "2024-08-21T20:40:59.539345600Z"
    }
   },
   "id": "571deadc4af06b89"
  },
  {
   "cell_type": "code",
   "execution_count": null,
   "outputs": [],
   "source": [
    "d2 = diff.append(cp.input_grid,AppendDirection.DOWN_LEFT)\n",
    "d2.shape"
   ],
   "metadata": {
    "collapsed": false
   },
   "id": "56e6f7c50f0a7ca7"
  },
  {
   "cell_type": "code",
   "execution_count": null,
   "outputs": [],
   "source": [
    "d2 = diff.append(cp.input_grid,AppendDirection.DOWN_RIGHT)\n",
    "d2.shape"
   ],
   "metadata": {
    "collapsed": false
   },
   "id": "51fd7ce2de1aa066"
  }
 ],
 "metadata": {
  "kernelspec": {
   "display_name": "Python 3",
   "language": "python",
   "name": "python3"
  },
  "language_info": {
   "codemirror_mode": {
    "name": "ipython",
    "version": 2
   },
   "file_extension": ".py",
   "mimetype": "text/x-python",
   "name": "python",
   "nbconvert_exporter": "python",
   "pygments_lexer": "ipython2",
   "version": "2.7.6"
  }
 },
 "nbformat": 4,
 "nbformat_minor": 5
}
