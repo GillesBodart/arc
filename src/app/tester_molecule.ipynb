{
 "cells": [
  {
   "cell_type": "code",
   "id": "initial_id",
   "metadata": {
    "collapsed": true,
    "ExecuteTime": {
     "end_time": "2024-08-22T13:12:16.704844Z",
     "start_time": "2024-08-22T13:12:16.690811Z"
    }
   },
   "source": "import json\n",
   "outputs": [],
   "execution_count": 3
  },
  {
   "cell_type": "code",
   "source": [],
   "metadata": {
    "collapsed": false,
    "ExecuteTime": {
     "end_time": "2024-08-22T13:12:16.751046Z",
     "start_time": "2024-08-22T13:12:16.741520Z"
    }
   },
   "id": "8de9b30f1c8be2a4",
   "outputs": [],
   "execution_count": 3
  },
  {
   "cell_type": "code",
   "source": [
    "def load_json(file_path):\n",
    "    with open(file_path) as f:\n",
    "        data = json.load(f)\n",
    "    return data\n"
   ],
   "metadata": {
    "collapsed": false,
    "ExecuteTime": {
     "end_time": "2024-08-22T13:12:16.781133Z",
     "start_time": "2024-08-22T13:12:16.771083Z"
    }
   },
   "id": "9c0c71fbffcb7b44",
   "outputs": [],
   "execution_count": 4
  },
  {
   "metadata": {
    "ExecuteTime": {
     "end_time": "2024-08-22T13:12:16.860114Z",
     "start_time": "2024-08-22T13:12:16.789471Z"
    }
   },
   "cell_type": "code",
   "source": [
    "base_path = '../../data/'\n",
    "\n",
    "training_challenges = load_json(base_path + 'arc-agi_training_challenges.json')"
   ],
   "id": "3f2244f4d1177e2a",
   "outputs": [],
   "execution_count": 5
  },
  {
   "metadata": {
    "ExecuteTime": {
     "end_time": "2024-08-22T13:12:16.968936Z",
     "start_time": "2024-08-22T13:12:16.862118Z"
    }
   },
   "cell_type": "code",
   "source": [
    "%load_ext autoreload\n",
    "%autoreload 2\n",
    "from src.model.cell import *\n",
    "from src.model.grid import *\n",
    "from src.model.molecule import *\n",
    "from src.model.challenge_pair import *"
   ],
   "id": "ca62284941603b73",
   "outputs": [],
   "execution_count": 6
  },
  {
   "metadata": {
    "ExecuteTime": {
     "end_time": "2024-08-22T13:12:17.076329Z",
     "start_time": "2024-08-22T13:12:16.969935Z"
    }
   },
   "cell_type": "code",
   "source": [
    "training  = training_challenges['007bbfb7']['train'][0]['input']\n",
    "update_training = copy.deepcopy(training)\n",
    "update_training [0][1] = 3\n",
    "update_training [1][1] = 3\n",
    "update_training [2][1] = 3\n",
    "diamond = [[0,0,0,3,0,0,0],[0,0,3,0,3,0,0],[0,3,0,0,0,3,0],[3,0,0,3,0,0,3],[0,3,0,0,0,3,0],[0,0,3,0,3,0,0],[0,0,0,3,0,0,0]]"
   ],
   "id": "d29a5976828da57e",
   "outputs": [],
   "execution_count": 7
  },
  {
   "metadata": {
    "ExecuteTime": {
     "end_time": "2024-08-22T13:12:17.185963Z",
     "start_time": "2024-08-22T13:12:17.079329Z"
    }
   },
   "cell_type": "code",
   "source": "training",
   "id": "633d5459b543b26c",
   "outputs": [
    {
     "data": {
      "text/plain": [
       "[[0, 7, 7], [7, 7, 7], [0, 7, 7]]"
      ]
     },
     "execution_count": 8,
     "metadata": {},
     "output_type": "execute_result"
    }
   ],
   "execution_count": 8
  },
  {
   "metadata": {
    "ExecuteTime": {
     "end_time": "2024-08-22T13:12:17.279558Z",
     "start_time": "2024-08-22T13:12:17.187964Z"
    }
   },
   "cell_type": "code",
   "source": "update_training",
   "id": "d88a546f9a316bb",
   "outputs": [
    {
     "data": {
      "text/plain": [
       "[[0, 3, 7], [7, 3, 7], [0, 3, 7]]"
      ]
     },
     "execution_count": 9,
     "metadata": {},
     "output_type": "execute_result"
    }
   ],
   "execution_count": 9
  },
  {
   "metadata": {},
   "cell_type": "code",
   "outputs": [],
   "execution_count": null,
   "source": [
    "g = Grid(training)\n",
    "gu = Grid(update_training)"
   ],
   "id": "9423eca191ad3ae5"
  },
  {
   "metadata": {
    "ExecuteTime": {
     "end_time": "2024-08-22T13:35:07.345297Z",
     "start_time": "2024-08-22T13:35:06.724494Z"
    }
   },
   "cell_type": "code",
   "source": [
    "\n",
    "gd = Grid(diamond)"
   ],
   "id": "d9c71735a47b11c1",
   "outputs": [
    {
     "name": "stdout",
     "output_type": "stream",
     "text": [
      "in (0, 3)\n",
      "in (1, 2)\n",
      "in (2, 1)\n",
      "in (3, 0)\n",
      "in (4, 1)\n",
      "in (5, 2)\n",
      "in (6, 3)\n",
      "in (5, 4)\n",
      "in (4, 5)\n",
      "in (3, 6)\n",
      "in (2, 5)\n",
      "in (1, 4)\n",
      "in (3, 3)\n"
     ]
    }
   ],
   "execution_count": 36
  },
  {
   "metadata": {
    "ExecuteTime": {
     "end_time": "2024-08-22T13:35:11.164230Z",
     "start_time": "2024-08-22T13:35:11.055156Z"
    }
   },
   "cell_type": "code",
   "source": "gd.molecules",
   "id": "793f0653952e027",
   "outputs": [
    {
     "data": {
      "text/plain": [
       "[<src.model.molecule.Molecule at 0x25dba8f6f50>,\n",
       " <src.model.molecule.Molecule at 0x25dbdda8640>]"
      ]
     },
     "execution_count": 37,
     "metadata": {},
     "output_type": "execute_result"
    }
   ],
   "execution_count": 37
  },
  {
   "metadata": {
    "ExecuteTime": {
     "end_time": "2024-08-22T13:35:14.284347Z",
     "start_time": "2024-08-22T13:35:14.161138Z"
    }
   },
   "cell_type": "code",
   "source": "gd.molecules[0].matrix()",
   "id": "9954b505a8526423",
   "outputs": [
    {
     "data": {
      "text/plain": [
       "[[0, 0, 0, 3, 0, 0, 0],\n",
       " [0, 0, 3, 0, 3, 0, 0],\n",
       " [0, 3, 0, 0, 0, 3, 0],\n",
       " [3, 0, 0, 0, 0, 0, 3],\n",
       " [0, 3, 0, 0, 0, 3, 0],\n",
       " [0, 0, 3, 0, 3, 0, 0],\n",
       " [0, 0, 0, 3, 0, 0, 0]]"
      ]
     },
     "execution_count": 38,
     "metadata": {},
     "output_type": "execute_result"
    }
   ],
   "execution_count": 38
  },
  {
   "metadata": {
    "ExecuteTime": {
     "end_time": "2024-08-22T13:35:26.931027Z",
     "start_time": "2024-08-22T13:35:26.776358Z"
    }
   },
   "cell_type": "code",
   "source": "gd.molecules[1].matrix()",
   "id": "7f4a5ce89223ae32",
   "outputs": [
    {
     "data": {
      "text/plain": [
       "[[3]]"
      ]
     },
     "execution_count": 39,
     "metadata": {},
     "output_type": "execute_result"
    }
   ],
   "execution_count": 39
  },
  {
   "metadata": {
    "ExecuteTime": {
     "end_time": "2024-08-22T13:12:17.402192Z",
     "start_time": "2024-08-22T13:12:17.280557Z"
    }
   },
   "cell_type": "code",
   "source": [
    "c1 = Cell(g, 0, 0, 7)\n",
    "c2 = Cell(g, 0, 1, 7)\n",
    "c3 = Cell(g, 0, 2, 7)\n",
    "c4 = Cell(g, 1, 0, 7)\n",
    "c5 = Cell(g, 1, 1, 7)\n",
    "c6 = Cell(g, 1, 2, 7)\n",
    "c7 = Cell(g, 2, 0, 7)\n",
    "c8 = Cell(g, 2, 1, 7)\n",
    "c9 = Cell(g, 2, 2, 7)\n",
    "c10 = Cell(g, 2, 2, 8)"
   ],
   "id": "429b726410f1c2f9",
   "outputs": [],
   "execution_count": 10
  },
  {
   "metadata": {
    "ExecuteTime": {
     "end_time": "2024-08-22T13:12:17.494996Z",
     "start_time": "2024-08-22T13:12:17.403195Z"
    }
   },
   "cell_type": "code",
   "source": [
    "mol = Molecule([c1, c2, c3, c4, c6, c7, c8, c9])\n",
    "mol2 = Molecule([c1, c2])\n",
    "mol3 = Molecule([c1, c2, c3, c4, c5, c6, c7, c8, c9])\n",
    "mol4 = Molecule([c1, c2, c3, c4, c5, c6, c7, c8, c10])"
   ],
   "id": "4519cb4e25f43a74",
   "outputs": [],
   "execution_count": 11
  },
  {
   "metadata": {
    "ExecuteTime": {
     "end_time": "2024-08-22T13:12:17.589942Z",
     "start_time": "2024-08-22T13:12:17.495999Z"
    }
   },
   "cell_type": "code",
   "source": "mol.molecule_linked_list",
   "id": "80b18a38c614d80b",
   "outputs": [
    {
     "data": {
      "text/plain": [
       "[[<src.model.cell.Cell at 0x25dbb14dc00>,\n",
       "  <src.model.cell.Cell at 0x25dbb14fdf0>,\n",
       "  <src.model.cell.Cell at 0x25dbb14ca30>],\n",
       " [<src.model.cell.Cell at 0x25dbb14cc70>,\n",
       "  <src.model.cell.Cell at 0x25dbb14cf40>],\n",
       " [<src.model.cell.Cell at 0x25dbb14cc10>,\n",
       "  <src.model.cell.Cell at 0x25dbb14cdc0>,\n",
       "  <src.model.cell.Cell at 0x25dbb14cbb0>]]"
      ]
     },
     "execution_count": 12,
     "metadata": {},
     "output_type": "execute_result"
    }
   ],
   "execution_count": 12
  },
  {
   "metadata": {
    "ExecuteTime": {
     "end_time": "2024-08-22T13:12:17.681670Z",
     "start_time": "2024-08-22T13:12:17.590943Z"
    }
   },
   "cell_type": "code",
   "source": "mol.is_sub_of(mol)",
   "id": "d6ba69fee0f4eb3a",
   "outputs": [
    {
     "data": {
      "text/plain": [
       "True"
      ]
     },
     "execution_count": 13,
     "metadata": {},
     "output_type": "execute_result"
    }
   ],
   "execution_count": 13
  },
  {
   "metadata": {
    "ExecuteTime": {
     "end_time": "2024-08-22T13:12:17.772276Z",
     "start_time": "2024-08-22T13:12:17.685189Z"
    }
   },
   "cell_type": "code",
   "source": "mol.is_sub_of(mol2)",
   "id": "ec6c00b682b7edc4",
   "outputs": [
    {
     "data": {
      "text/plain": [
       "False"
      ]
     },
     "execution_count": 14,
     "metadata": {},
     "output_type": "execute_result"
    }
   ],
   "execution_count": 14
  },
  {
   "metadata": {
    "ExecuteTime": {
     "end_time": "2024-08-22T13:12:17.865869Z",
     "start_time": "2024-08-22T13:12:17.774423Z"
    }
   },
   "cell_type": "code",
   "source": "mol2.is_sub_of(mol)\n",
   "id": "39636636bce8fa73",
   "outputs": [
    {
     "data": {
      "text/plain": [
       "True"
      ]
     },
     "execution_count": 15,
     "metadata": {},
     "output_type": "execute_result"
    }
   ],
   "execution_count": 15
  },
  {
   "metadata": {
    "ExecuteTime": {
     "end_time": "2024-08-22T13:12:17.956814Z",
     "start_time": "2024-08-22T13:12:17.867829Z"
    }
   },
   "cell_type": "code",
   "source": "mol.is_filled()",
   "id": "ae297e10ef9bc4c7",
   "outputs": [
    {
     "data": {
      "text/plain": [
       "False"
      ]
     },
     "execution_count": 16,
     "metadata": {},
     "output_type": "execute_result"
    }
   ],
   "execution_count": 16
  },
  {
   "metadata": {
    "ExecuteTime": {
     "end_time": "2024-08-22T13:12:18.050952Z",
     "start_time": "2024-08-22T13:12:17.957814Z"
    }
   },
   "cell_type": "code",
   "source": "mol3.is_filled()",
   "id": "941d00c792bcf9a5",
   "outputs": [
    {
     "data": {
      "text/plain": [
       "True"
      ]
     },
     "execution_count": 17,
     "metadata": {},
     "output_type": "execute_result"
    }
   ],
   "execution_count": 17
  },
  {
   "metadata": {
    "ExecuteTime": {
     "end_time": "2024-08-22T13:12:18.172184Z",
     "start_time": "2024-08-22T13:12:18.052954Z"
    }
   },
   "cell_type": "code",
   "source": "mol3.is_same_color()",
   "id": "2d011f3fe1c43749",
   "outputs": [
    {
     "data": {
      "text/plain": [
       "True"
      ]
     },
     "execution_count": 18,
     "metadata": {},
     "output_type": "execute_result"
    }
   ],
   "execution_count": 18
  },
  {
   "metadata": {
    "ExecuteTime": {
     "end_time": "2024-08-22T13:12:18.279899Z",
     "start_time": "2024-08-22T13:12:18.174711Z"
    }
   },
   "cell_type": "code",
   "source": "mol4.is_same_color()",
   "id": "c5dcc9473e6c398b",
   "outputs": [
    {
     "data": {
      "text/plain": [
       "False"
      ]
     },
     "execution_count": 19,
     "metadata": {},
     "output_type": "execute_result"
    }
   ],
   "execution_count": 19
  },
  {
   "metadata": {
    "ExecuteTime": {
     "end_time": "2024-08-22T13:12:18.372850Z",
     "start_time": "2024-08-22T13:12:18.280901Z"
    }
   },
   "cell_type": "code",
   "source": "c2.get_neighbor(1,2)",
   "id": "d7cf7c19250573be",
   "outputs": [
    {
     "data": {
      "text/plain": [
       "<src.model.cell.Cell at 0x25dbb14c940>"
      ]
     },
     "execution_count": 20,
     "metadata": {},
     "output_type": "execute_result"
    }
   ],
   "execution_count": 20
  },
  {
   "metadata": {
    "ExecuteTime": {
     "end_time": "2024-08-22T13:12:50.794109Z",
     "start_time": "2024-08-22T13:12:50.651896Z"
    }
   },
   "cell_type": "code",
   "source": "[str(cell.uuid) for cell in c2.get_neighbors()]",
   "id": "71bab96fe5c994d9",
   "outputs": [
    {
     "data": {
      "text/plain": [
       "['1ceb8eeb-9f05-4f18-ac02-3e6c53aa728d',\n",
       " '99d1bc89-91cb-424a-836f-22541efcc678',\n",
       " 'c7ba2c72-920b-486d-ae51-e4ba79fcbdf4',\n",
       " 'c90687f6-85d2-44f4-be94-4b6224d6da48',\n",
       " '5dfb50a2-7f81-48c2-a081-bb28c75ccd5a',\n",
       " 'a2daae68-248d-4f36-9e43-9760827c1fb8']"
      ]
     },
     "execution_count": 28,
     "metadata": {},
     "output_type": "execute_result"
    }
   ],
   "execution_count": 28
  },
  {
   "metadata": {
    "ExecuteTime": {
     "end_time": "2024-08-22T13:12:18.684313Z",
     "start_time": "2024-08-22T13:12:18.468525Z"
    }
   },
   "cell_type": "code",
   "source": "g.show()",
   "id": "e923eae65e1d7924",
   "outputs": [
    {
     "data": {
      "text/plain": [
       "<Figure size 640x480 with 1 Axes>"
      ],
      "image/png": "[encoded data removed]"
     },
     "metadata": {},
     "output_type": "display_data"
    }
   ],
   "execution_count": 22
  },
  {
   "metadata": {
    "ExecuteTime": {
     "end_time": "2024-08-22T13:12:18.870170Z",
     "start_time": "2024-08-22T13:12:18.685320Z"
    }
   },
   "cell_type": "code",
   "source": [
    "g2 = Grid(c1.get_neighbors_matrix())\n",
    "g2.show()"
   ],
   "id": "4473f105f96cd490",
   "outputs": [
    {
     "data": {
      "text/plain": [
       "<Figure size 640x480 with 1 Axes>"
      ],
      "image/png": "[encoded data removed]"
     },
     "metadata": {},
     "output_type": "display_data"
    }
   ],
   "execution_count": 23
  },
  {
   "metadata": {
    "ExecuteTime": {
     "end_time": "2024-08-22T13:12:19.056191Z",
     "start_time": "2024-08-22T13:12:18.872173Z"
    }
   },
   "cell_type": "code",
   "source": "gu.show()",
   "id": "9ba40a104e7993da",
   "outputs": [
    {
     "data": {
      "text/plain": [
       "<Figure size 640x480 with 1 Axes>"
      ],
      "image/png": "[encoded data removed]"
     },
     "metadata": {},
     "output_type": "display_data"
    }
   ],
   "execution_count": 24
  },
  {
   "metadata": {
    "ExecuteTime": {
     "end_time": "2024-08-22T13:12:19.241271Z",
     "start_time": "2024-08-22T13:12:19.058194Z"
    }
   },
   "cell_type": "code",
   "source": [
    "g3 = Grid(gu.get_cell(0,1).get_neighbors_matrix())\n",
    "g3.show()"
   ],
   "id": "92aecc4d112b33aa",
   "outputs": [
    {
     "data": {
      "text/plain": [
       "<Figure size 640x480 with 1 Axes>"
      ],
      "image/png": "[encoded data removed]"
     },
     "metadata": {},
     "output_type": "display_data"
    }
   ],
   "execution_count": 25
  },
  {
   "metadata": {
    "ExecuteTime": {
     "end_time": "2024-08-22T13:12:19.334163Z",
     "start_time": "2024-08-22T13:12:19.243260Z"
    }
   },
   "cell_type": "code",
   "source": "gu.get_cell(0,1).get_color_neighbors()",
   "id": "bd7cbb55ea006be3",
   "outputs": [
    {
     "data": {
      "text/plain": [
       "[<src.model.cell.Cell at 0x25dbb14e290>,\n",
       " <src.model.cell.Cell at 0x25dbb14e170>]"
      ]
     },
     "execution_count": 26,
     "metadata": {},
     "output_type": "execute_result"
    }
   ],
   "execution_count": 26
  },
  {
   "metadata": {
    "ExecuteTime": {
     "end_time": "2024-08-22T13:12:19.459102Z",
     "start_time": "2024-08-22T13:12:19.336157Z"
    }
   },
   "cell_type": "code",
   "source": [
    "Grid(gu.get_cell(0, 1).get_color_neighbors_matrix()).show()\n",
    "Grid(gu.get_cell(0, 1).get_neighbors_matrix()).show()"
   ],
   "id": "825d31536ede92ae",
   "outputs": [
    {
     "ename": "TypeError",
     "evalue": "'Cell' object is not iterable",
     "output_type": "error",
     "traceback": [
      "\u001B[1;31m---------------------------------------------------------------------------\u001B[0m",
      "\u001B[1;31mTypeError\u001B[0m                                 Traceback (most recent call last)",
      "Cell \u001B[1;32mIn [27], line 1\u001B[0m\n\u001B[1;32m----> 1\u001B[0m Grid(\u001B[43mgu\u001B[49m\u001B[38;5;241;43m.\u001B[39;49m\u001B[43mget_cell\u001B[49m\u001B[43m(\u001B[49m\u001B[38;5;241;43m0\u001B[39;49m\u001B[43m,\u001B[49m\u001B[43m \u001B[49m\u001B[38;5;241;43m1\u001B[39;49m\u001B[43m)\u001B[49m\u001B[38;5;241;43m.\u001B[39;49m\u001B[43mget_color_neighbors_matrix\u001B[49m\u001B[43m(\u001B[49m\u001B[43m)\u001B[49m)\u001B[38;5;241m.\u001B[39mshow()\n\u001B[0;32m      2\u001B[0m Grid(gu\u001B[38;5;241m.\u001B[39mget_cell(\u001B[38;5;241m0\u001B[39m, \u001B[38;5;241m1\u001B[39m)\u001B[38;5;241m.\u001B[39mget_neighbors_matrix())\u001B[38;5;241m.\u001B[39mshow()\n",
      "File \u001B[1;32mC:\\Sand\\arc-prize-2024\\src\\model\\cell.py:55\u001B[0m, in \u001B[0;36mCell.get_color_neighbors_matrix\u001B[1;34m(self)\u001B[0m\n\u001B[0;32m     53\u001B[0m \u001B[38;5;28;01mdef\u001B[39;00m \u001B[38;5;21mget_color_neighbors_matrix\u001B[39m(\u001B[38;5;28mself\u001B[39m):\n\u001B[0;32m     54\u001B[0m     \u001B[38;5;28mself\u001B[39m\u001B[38;5;241m.\u001B[39m_init_neighbors()\n\u001B[1;32m---> 55\u001B[0m     \u001B[38;5;28;01mreturn\u001B[39;00m [[cell\u001B[38;5;241m.\u001B[39mcolor \u001B[38;5;28;01mif\u001B[39;00m cell \u001B[38;5;129;01mis\u001B[39;00m \u001B[38;5;129;01mnot\u001B[39;00m \u001B[38;5;28;01mNone\u001B[39;00m \u001B[38;5;28;01melse\u001B[39;00m \u001B[38;5;241m0\u001B[39m \u001B[38;5;28;01mfor\u001B[39;00m cell \u001B[38;5;129;01min\u001B[39;00m row] \u001B[38;5;28;01mfor\u001B[39;00m row \u001B[38;5;129;01min\u001B[39;00m \u001B[38;5;28mself\u001B[39m\u001B[38;5;241m.\u001B[39mget_color_neighbors()]\n",
      "File \u001B[1;32mC:\\Sand\\arc-prize-2024\\src\\model\\cell.py:55\u001B[0m, in \u001B[0;36m<listcomp>\u001B[1;34m(.0)\u001B[0m\n\u001B[0;32m     53\u001B[0m \u001B[38;5;28;01mdef\u001B[39;00m \u001B[38;5;21mget_color_neighbors_matrix\u001B[39m(\u001B[38;5;28mself\u001B[39m):\n\u001B[0;32m     54\u001B[0m     \u001B[38;5;28mself\u001B[39m\u001B[38;5;241m.\u001B[39m_init_neighbors()\n\u001B[1;32m---> 55\u001B[0m     \u001B[38;5;28;01mreturn\u001B[39;00m [[cell\u001B[38;5;241m.\u001B[39mcolor \u001B[38;5;28;01mif\u001B[39;00m cell \u001B[38;5;129;01mis\u001B[39;00m \u001B[38;5;129;01mnot\u001B[39;00m \u001B[38;5;28;01mNone\u001B[39;00m \u001B[38;5;28;01melse\u001B[39;00m \u001B[38;5;241m0\u001B[39m \u001B[38;5;28;01mfor\u001B[39;00m cell \u001B[38;5;129;01min\u001B[39;00m row] \u001B[38;5;28;01mfor\u001B[39;00m row \u001B[38;5;129;01min\u001B[39;00m \u001B[38;5;28mself\u001B[39m\u001B[38;5;241m.\u001B[39mget_color_neighbors()]\n",
      "\u001B[1;31mTypeError\u001B[0m: 'Cell' object is not iterable"
     ]
    }
   ],
   "execution_count": 27
  },
  {
   "metadata": {
    "ExecuteTime": {
     "end_time": "2024-08-22T13:12:19.461105Z",
     "start_time": "2024-08-22T13:12:19.461105Z"
    }
   },
   "cell_type": "code",
   "source": [
    "Grid(gu.get_cell(0, 2).get_color_neighbors_matrix()).show()\n",
    "Grid(gu.get_cell(0, 2).get_neighbors_matrix()).show()"
   ],
   "id": "e28433ff12a29d8d",
   "outputs": [],
   "execution_count": null
  },
  {
   "metadata": {},
   "cell_type": "code",
   "source": [
    "Grid(gu.get_cell(1, 1).get_color_neighbors_matrix()).show()\n",
    "Grid(gu.get_cell(1, 1).get_neighbors_matrix()).show()"
   ],
   "id": "3a9c1501711c1959",
   "outputs": [],
   "execution_count": null
  },
  {
   "metadata": {},
   "cell_type": "code",
   "source": "Grid(mol.matrix()).show()",
   "id": "cbb3c4af49ea195e",
   "outputs": [],
   "execution_count": null
  },
  {
   "metadata": {},
   "cell_type": "code",
   "source": "gd.show()",
   "id": "8dad687d86fba834",
   "outputs": [],
   "execution_count": null
  },
  {
   "metadata": {
    "ExecuteTime": {
     "end_time": "2024-08-22T13:37:15.079318Z",
     "start_time": "2024-08-22T13:37:14.671218Z"
    }
   },
   "cell_type": "code",
   "source": [
    "gd.show()\n",
    "Grid(gd.molecules[0].matrix()).show()\n",
    "Grid(gd.molecules[1].matrix()).show()"
   ],
   "id": "aa25f09389be9984",
   "outputs": [
    {
     "data": {
      "text/plain": [
       "<Figure size 640x480 with 1 Axes>"
      ],
      "image/png": "[encoded data removed]"
     },
     "metadata": {},
     "output_type": "display_data"
    },
    {
     "data": {
      "text/plain": [
       "<Figure size 640x480 with 1 Axes>"
      ],
      "image/png": "[encoded data removed]"
     },
     "metadata": {},
     "output_type": "display_data"
    },
    {
     "data": {
      "text/plain": [
       "<Figure size 640x480 with 1 Axes>"
      ],
      "image/png": "[encoded data removed]"
     },
     "metadata": {},
     "output_type": "display_data"
    }
   ],
   "execution_count": 42
  }
 ],
 "metadata": {
  "kernelspec": {
   "display_name": "Python 3",
   "language": "python",
   "name": "python3"
  },
  "language_info": {
   "codemirror_mode": {
    "name": "ipython",
    "version": 2
   },
   "file_extension": ".py",
   "mimetype": "text/x-python",
   "name": "python",
   "nbconvert_exporter": "python",
   "pygments_lexer": "ipython2",
   "version": "2.7.6"
  }
 },
 "nbformat": 4,
 "nbformat_minor": 5
}
